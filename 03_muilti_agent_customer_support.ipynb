{
 "cells": [
  {
   "cell_type": "code",
   "execution_count": 1,
   "metadata": {},
   "outputs": [],
   "source": [
    "# Warning control\n",
    "import warnings\n",
    "warnings.filterwarnings('ignore')"
   ]
  },
  {
   "cell_type": "code",
   "execution_count": 2,
   "metadata": {},
   "outputs": [
    {
     "name": "stderr",
     "output_type": "stream",
     "text": [
      "/home/patrick/.pyenv/versions/3.11.11/lib/python3.11/site-packages/pydantic/_internal/_config.py:323: PydanticDeprecatedSince20: Support for class-based `config` is deprecated, use ConfigDict instead. Deprecated in Pydantic V2.0 to be removed in V3.0. See Pydantic V2 Migration Guide at https://errors.pydantic.dev/2.11/migration/\n",
      "  warnings.warn(DEPRECATION_MESSAGE, DeprecationWarning)\n",
      "/home/patrick/.pyenv/versions/3.11.11/lib/python3.11/site-packages/pydantic/_internal/_config.py:323: PydanticDeprecatedSince20: Support for class-based `config` is deprecated, use ConfigDict instead. Deprecated in Pydantic V2.0 to be removed in V3.0. See Pydantic V2 Migration Guide at https://errors.pydantic.dev/2.11/migration/\n",
      "  warnings.warn(DEPRECATION_MESSAGE, DeprecationWarning)\n",
      "/home/patrick/.pyenv/versions/3.11.11/lib/python3.11/site-packages/crewai_tools/tools/scrapegraph_scrape_tool/scrapegraph_scrape_tool.py:34: PydanticDeprecatedSince20: Pydantic V1 style `@validator` validators are deprecated. You should migrate to Pydantic V2 style `@field_validator` validators, see the migration guide for more details. Deprecated in Pydantic V2.0 to be removed in V3.0. See Pydantic V2 Migration Guide at https://errors.pydantic.dev/2.11/migration/\n",
      "  @validator(\"website_url\")\n",
      "/home/patrick/.pyenv/versions/3.11.11/lib/python3.11/site-packages/crewai_tools/tools/selenium_scraping_tool/selenium_scraping_tool.py:26: PydanticDeprecatedSince20: Pydantic V1 style `@validator` validators are deprecated. You should migrate to Pydantic V2 style `@field_validator` validators, see the migration guide for more details. Deprecated in Pydantic V2.0 to be removed in V3.0. See Pydantic V2 Migration Guide at https://errors.pydantic.dev/2.11/migration/\n",
      "  @validator(\"website_url\")\n",
      "/home/patrick/.pyenv/versions/3.11.11/lib/python3.11/site-packages/crewai_tools/tools/vision_tool/vision_tool.py:15: PydanticDeprecatedSince20: Pydantic V1 style `@validator` validators are deprecated. You should migrate to Pydantic V2 style `@field_validator` validators, see the migration guide for more details. Deprecated in Pydantic V2.0 to be removed in V3.0. See Pydantic V2 Migration Guide at https://errors.pydantic.dev/2.11/migration/\n",
      "  @validator(\"image_path_url\")\n"
     ]
    }
   ],
   "source": [
    "from crewai import Agent, Task, Crew\n",
    "from crewai_tools import ScrapeWebsiteTool\n",
    "from crewai.memory import LongTermMemory\n",
    "from crewai.memory.storage.ltm_sqlite_storage import LTMSQLiteStorage"
   ]
  },
  {
   "cell_type": "code",
   "execution_count": 3,
   "metadata": {},
   "outputs": [],
   "source": [
    "import os\n",
    "from utils import get_openai_api_key\n",
    "\n",
    "openai_api_key = get_openai_api_key()\n",
    "os.environ[\"OPENAI_MODEL_NAME\"] = 'gpt-4o-mini'"
   ]
  },
  {
   "cell_type": "code",
   "execution_count": 4,
   "metadata": {},
   "outputs": [],
   "source": [
    "support_agent = Agent(\n",
    "    role=\"Senior Support Representative\",\n",
    "\tgoal=\"Be the most friendly and helpful \"\n",
    "        \"support representative in your team\",\n",
    "\tbackstory=(\n",
    "\t\t\"You work at crewAI (https://crewai.com) and \"\n",
    "        \" are now working on providing \"\n",
    "\t\t\"support to {customer}, a super important customer \"\n",
    "        \" for your company.\"\n",
    "\t\t\"You need to make sure that you provide the best support!\"\n",
    "\t\t\"Make sure to provide full complete answers, \"\n",
    "        \" and make no assumptions.\"\n",
    "\t),\n",
    "\tallow_delegation=False,\n",
    "\tverbose=True\n",
    ")"
   ]
  },
  {
   "cell_type": "code",
   "execution_count": 5,
   "metadata": {},
   "outputs": [],
   "source": [
    "support_quality_assurance_agent = Agent(\n",
    "\trole=\"Support Quality Assurance Specialist\",\n",
    "\tgoal=\"Get recognition for providing the \"\n",
    "    \"best support quality assurance in your team\",\n",
    "\tbackstory=(\n",
    "\t\t\"You work at crewAI (https://crewai.com) and \"\n",
    "        \"are now working with your team \"\n",
    "\t\t\"on a request from {customer} ensuring that \"\n",
    "        \"the support representative is \"\n",
    "\t\t\"providing the best support possible.\\n\"\n",
    "\t\t\"You need to make sure that the support representative \"\n",
    "        \"is providing full\"\n",
    "\t\t\"complete answers, and make no assumptions.\"\n",
    "\t),\n",
    "\tverbose=True\n",
    ")"
   ]
  },
  {
   "cell_type": "code",
   "execution_count": 6,
   "metadata": {},
   "outputs": [],
   "source": [
    "docs_scrape_tool = ScrapeWebsiteTool(\n",
    "    website_url=\"https://docs.crewai.com/concepts/memory\"\n",
    ")"
   ]
  },
  {
   "cell_type": "code",
   "execution_count": 7,
   "metadata": {},
   "outputs": [],
   "source": [
    "inquiry_resolution = Task(\n",
    "    description=(\n",
    "        \"{customer} just reached out with a super important ask:\\n\"\n",
    "\t    \"{inquiry}\\n\\n\"\n",
    "        \"{person} from {customer} is the one that reached out. \"\n",
    "\t\t\"Make sure to use everything you know \"\n",
    "        \"to provide the best support possible.\"\n",
    "\t\t\"You must strive to provide a complete \"\n",
    "        \"and accurate response to the customer's inquiry.\"\n",
    "    ),\n",
    "    expected_output=(\n",
    "\t    \"A detailed, informative response to the \"\n",
    "        \"customer's inquiry that addresses \"\n",
    "        \"all aspects of their question.\\n\"\n",
    "        \"The response should include references \"\n",
    "        \"to everything you used to find the answer, \"\n",
    "        \"including external data or solutions. \"\n",
    "        \"Ensure the answer is complete, \"\n",
    "\t\t\"leaving no questions unanswered, and maintain a helpful and friendly \"\n",
    "\t\t\"tone throughout.\"\n",
    "    ),\n",
    "\ttools=[docs_scrape_tool],\n",
    "    agent=support_agent,\n",
    ")"
   ]
  },
  {
   "cell_type": "code",
   "execution_count": 8,
   "metadata": {},
   "outputs": [],
   "source": [
    "quality_assurance_review = Task(\n",
    "    description=(\n",
    "        \"Review the response drafted by the Senior Support Representative for {customer}'s inquiry. \"\n",
    "        \"Ensure that the answer is comprehensive, accurate, and adheres to the \"\n",
    "\t\t\"high-quality standards expected for customer support.\\n\"\n",
    "        \"Verify that all parts of the customer's inquiry \"\n",
    "        \"have been addressed \"\n",
    "\t\t\"thoroughly, with a helpful and friendly tone.\\n\"\n",
    "        \"Check for references and sources used to \"\n",
    "        \" find the information, \"\n",
    "\t\t\"ensuring the response is well-supported and \"\n",
    "        \"leaves no questions unanswered.\"\n",
    "    ),\n",
    "    expected_output=(\n",
    "        \"A final, detailed, and informative response \"\n",
    "        \"ready to be sent to the customer.\\n\"\n",
    "        \"This response should fully address the \"\n",
    "        \"customer's inquiry, incorporating all \"\n",
    "\t\t\"relevant feedback and improvements.\\n\"\n",
    "\t\t\"Don't be too formal, we are a chill and cool company \"\n",
    "\t    \"but maintain a professional and friendly tone throughout.\"\n",
    "    ),\n",
    "    agent=support_quality_assurance_agent,\n",
    ")\n"
   ]
  },
  {
   "cell_type": "code",
   "execution_count": 9,
   "metadata": {},
   "outputs": [],
   "source": [
    "crew = Crew(\n",
    "  agents=[support_agent, support_quality_assurance_agent],\n",
    "  tasks=[inquiry_resolution, quality_assurance_review],\n",
    "  verbose=True,\n",
    "  memory=True,\n",
    "  long_term_memory=LongTermMemory(\n",
    "        storage=LTMSQLiteStorage(\n",
    "            db_path=\"03_muilti_agent_customer_support.db\"\n",
    "        )\n",
    "    ),\n",
    ")"
   ]
  },
  {
   "cell_type": "code",
   "execution_count": 10,
   "metadata": {},
   "outputs": [
    {
     "data": {
      "text/html": [
       "<pre style=\"white-space:pre;overflow-x:auto;line-height:normal;font-family:Menlo,'DejaVu Sans Mono',consolas,'Courier New',monospace\"><span style=\"color: #008080; text-decoration-color: #008080\">╭──────────────────────────────────────────── Crew Execution Started ─────────────────────────────────────────────╮</span>\n",
       "<span style=\"color: #008080; text-decoration-color: #008080\">│</span>                                                                                                                 <span style=\"color: #008080; text-decoration-color: #008080\">│</span>\n",
       "<span style=\"color: #008080; text-decoration-color: #008080\">│</span>  <span style=\"color: #008080; text-decoration-color: #008080; font-weight: bold\">Crew Execution Started</span>                                                                                         <span style=\"color: #008080; text-decoration-color: #008080\">│</span>\n",
       "<span style=\"color: #008080; text-decoration-color: #008080\">│</span>  <span style=\"color: #c0c0c0; text-decoration-color: #c0c0c0\">Name: </span><span style=\"color: #008080; text-decoration-color: #008080\">crew</span>                                                                                                     <span style=\"color: #008080; text-decoration-color: #008080\">│</span>\n",
       "<span style=\"color: #008080; text-decoration-color: #008080\">│</span>  <span style=\"color: #c0c0c0; text-decoration-color: #c0c0c0\">ID: </span><span style=\"color: #008080; text-decoration-color: #008080\">30b557a6-7a8e-4898-9c6f-b28fb8f88706</span>                                                                       <span style=\"color: #008080; text-decoration-color: #008080\">│</span>\n",
       "<span style=\"color: #008080; text-decoration-color: #008080\">│</span>                                                                                                                 <span style=\"color: #008080; text-decoration-color: #008080\">│</span>\n",
       "<span style=\"color: #008080; text-decoration-color: #008080\">│</span>                                                                                                                 <span style=\"color: #008080; text-decoration-color: #008080\">│</span>\n",
       "<span style=\"color: #008080; text-decoration-color: #008080\">╰─────────────────────────────────────────────────────────────────────────────────────────────────────────────────╯</span>\n",
       "</pre>\n"
      ],
      "text/plain": [
       "\u001b[36m╭─\u001b[0m\u001b[36m───────────────────────────────────────────\u001b[0m\u001b[36m Crew Execution Started \u001b[0m\u001b[36m────────────────────────────────────────────\u001b[0m\u001b[36m─╮\u001b[0m\n",
       "\u001b[36m│\u001b[0m                                                                                                                 \u001b[36m│\u001b[0m\n",
       "\u001b[36m│\u001b[0m  \u001b[1;36mCrew Execution Started\u001b[0m                                                                                         \u001b[36m│\u001b[0m\n",
       "\u001b[36m│\u001b[0m  \u001b[37mName: \u001b[0m\u001b[36mcrew\u001b[0m                                                                                                     \u001b[36m│\u001b[0m\n",
       "\u001b[36m│\u001b[0m  \u001b[37mID: \u001b[0m\u001b[36m30b557a6-7a8e-4898-9c6f-b28fb8f88706\u001b[0m                                                                       \u001b[36m│\u001b[0m\n",
       "\u001b[36m│\u001b[0m                                                                                                                 \u001b[36m│\u001b[0m\n",
       "\u001b[36m│\u001b[0m                                                                                                                 \u001b[36m│\u001b[0m\n",
       "\u001b[36m╰─────────────────────────────────────────────────────────────────────────────────────────────────────────────────╯\u001b[0m\n"
      ]
     },
     "metadata": {},
     "output_type": "display_data"
    },
    {
     "data": {
      "text/html": [
       "<pre style=\"white-space:pre;overflow-x:auto;line-height:normal;font-family:Menlo,'DejaVu Sans Mono',consolas,'Courier New',monospace\">\n",
       "</pre>\n"
      ],
      "text/plain": [
       "\n"
      ]
     },
     "metadata": {},
     "output_type": "display_data"
    },
    {
     "data": {
      "text/html": [
       "<pre style=\"white-space:pre;overflow-x:auto;line-height:normal;font-family:Menlo,'DejaVu Sans Mono',consolas,'Courier New',monospace\"><span style=\"color: #008080; text-decoration-color: #008080; font-weight: bold\">🚀 Crew: crew</span>\n",
       "└── <span style=\"color: #808000; text-decoration-color: #808000; font-weight: bold\">📋 Task: 337fb178-4ed8-4513-91e6-1a74e3178b15</span>\n",
       "    <span style=\"color: #c0c0c0; text-decoration-color: #c0c0c0\">   Status: </span><span style=\"color: #bfbf7f; text-decoration-color: #bfbf7f\">Executing Task...</span>\n",
       "</pre>\n"
      ],
      "text/plain": [
       "\u001b[1;36m🚀 Crew: \u001b[0m\u001b[1;36mcrew\u001b[0m\n",
       "└── \u001b[1;33m📋 Task: 337fb178-4ed8-4513-91e6-1a74e3178b15\u001b[0m\n",
       "    \u001b[37m   Status: \u001b[0m\u001b[2;33mExecuting Task...\u001b[0m\n"
      ]
     },
     "metadata": {},
     "output_type": "display_data"
    },
    {
     "data": {
      "text/html": [
       "<pre style=\"white-space:pre;overflow-x:auto;line-height:normal;font-family:Menlo,'DejaVu Sans Mono',consolas,'Courier New',monospace\">\n",
       "</pre>\n"
      ],
      "text/plain": [
       "\n"
      ]
     },
     "metadata": {},
     "output_type": "display_data"
    },
    {
     "data": {
      "text/html": [
       "<pre style=\"white-space:pre;overflow-x:auto;line-height:normal;font-family:Menlo,'DejaVu Sans Mono',consolas,'Courier New',monospace\"><span style=\"color: #008080; text-decoration-color: #008080; font-weight: bold\">🚀 Crew: crew</span>\n",
       "└── <span style=\"color: #808000; text-decoration-color: #808000; font-weight: bold\">📋 Task: 337fb178-4ed8-4513-91e6-1a74e3178b15</span>\n",
       "    <span style=\"color: #c0c0c0; text-decoration-color: #c0c0c0\">   Status: </span><span style=\"color: #bfbf7f; text-decoration-color: #bfbf7f\">Executing Task...</span>\n",
       "    └── <span style=\"color: #008000; text-decoration-color: #008000; font-weight: bold\">🤖 Agent: </span><span style=\"color: #008000; text-decoration-color: #008000\">Senior Support Representative</span>\n",
       "        <span style=\"color: #c0c0c0; text-decoration-color: #c0c0c0\">    Status: </span><span style=\"color: #008000; text-decoration-color: #008000; font-weight: bold\">In Progress</span>\n",
       "</pre>\n"
      ],
      "text/plain": [
       "\u001b[1;36m🚀 Crew: \u001b[0m\u001b[1;36mcrew\u001b[0m\n",
       "└── \u001b[1;33m📋 Task: 337fb178-4ed8-4513-91e6-1a74e3178b15\u001b[0m\n",
       "    \u001b[37m   Status: \u001b[0m\u001b[2;33mExecuting Task...\u001b[0m\n",
       "    └── \u001b[1;32m🤖 Agent: \u001b[0m\u001b[32mSenior Support Representative\u001b[0m\n",
       "        \u001b[37m    Status: \u001b[0m\u001b[1;32mIn Progress\u001b[0m\n"
      ]
     },
     "metadata": {},
     "output_type": "display_data"
    },
    {
     "data": {
      "text/html": [
       "<pre style=\"white-space:pre;overflow-x:auto;line-height:normal;font-family:Menlo,'DejaVu Sans Mono',consolas,'Courier New',monospace\">\n",
       "</pre>\n"
      ],
      "text/plain": [
       "\n"
      ]
     },
     "metadata": {},
     "output_type": "display_data"
    },
    {
     "name": "stdout",
     "output_type": "stream",
     "text": [
      "\u001b[1m\u001b[95m# Agent:\u001b[00m \u001b[1m\u001b[92mSenior Support Representative\u001b[00m\n",
      "\u001b[95m## Task:\u001b[00m \u001b[92mDeepLearningAI just reached out with a super important ask:\n",
      "I need help with setting up a Crew and kicking it off, specifically how can I add memory (short, long-term and entity) to my crew agents running locally or in my own server? Can you provide guidance?\n",
      "\n",
      "Andrew Ng from DeepLearningAI is the one that reached out. Make sure to use everything you know to provide the best support possible.You must strive to provide a complete and accurate response to the customer's inquiry.\u001b[00m\n"
     ]
    },
    {
     "data": {
      "text/html": [
       "<pre style=\"white-space:pre;overflow-x:auto;line-height:normal;font-family:Menlo,'DejaVu Sans Mono',consolas,'Courier New',monospace\"><span style=\"color: #008080; text-decoration-color: #008080; font-weight: bold\">🚀 Crew: crew</span>\n",
       "└── <span style=\"color: #808000; text-decoration-color: #808000; font-weight: bold\">📋 Task: 337fb178-4ed8-4513-91e6-1a74e3178b15</span>\n",
       "    <span style=\"color: #c0c0c0; text-decoration-color: #c0c0c0\">   Status: </span><span style=\"color: #bfbf7f; text-decoration-color: #bfbf7f\">Executing Task...</span>\n",
       "    └── <span style=\"color: #008000; text-decoration-color: #008000; font-weight: bold\">🤖 Agent: </span><span style=\"color: #008000; text-decoration-color: #008000\">Senior Support Representative</span>\n",
       "        <span style=\"color: #c0c0c0; text-decoration-color: #c0c0c0\">    Status: </span><span style=\"color: #008000; text-decoration-color: #008000; font-weight: bold\">In Progress</span>\n",
       "        └── <span style=\"color: #000080; text-decoration-color: #000080; font-weight: bold\">🧠 </span><span style=\"color: #000080; text-decoration-color: #000080\">Thinking...</span>\n",
       "</pre>\n"
      ],
      "text/plain": [
       "\u001b[1;36m🚀 Crew: \u001b[0m\u001b[1;36mcrew\u001b[0m\n",
       "└── \u001b[1;33m📋 Task: 337fb178-4ed8-4513-91e6-1a74e3178b15\u001b[0m\n",
       "    \u001b[37m   Status: \u001b[0m\u001b[2;33mExecuting Task...\u001b[0m\n",
       "    └── \u001b[1;32m🤖 Agent: \u001b[0m\u001b[32mSenior Support Representative\u001b[0m\n",
       "        \u001b[37m    Status: \u001b[0m\u001b[1;32mIn Progress\u001b[0m\n",
       "        └── \u001b[1;34m🧠 \u001b[0m\u001b[34mThinking...\u001b[0m\n"
      ]
     },
     "metadata": {},
     "output_type": "display_data"
    },
    {
     "data": {
      "text/html": [
       "<pre style=\"white-space:pre;overflow-x:auto;line-height:normal;font-family:Menlo,'DejaVu Sans Mono',consolas,'Courier New',monospace\">\n",
       "</pre>\n"
      ],
      "text/plain": [
       "\n"
      ]
     },
     "metadata": {},
     "output_type": "display_data"
    },
    {
     "data": {
      "text/html": [
       "<pre style=\"white-space:pre;overflow-x:auto;line-height:normal;font-family:Menlo,'DejaVu Sans Mono',consolas,'Courier New',monospace\"><span style=\"color: #008080; text-decoration-color: #008080; font-weight: bold\">🚀 Crew: crew</span>\n",
       "└── <span style=\"color: #808000; text-decoration-color: #808000; font-weight: bold\">📋 Task: 337fb178-4ed8-4513-91e6-1a74e3178b15</span>\n",
       "    <span style=\"color: #c0c0c0; text-decoration-color: #c0c0c0\">   Status: </span><span style=\"color: #bfbf7f; text-decoration-color: #bfbf7f\">Executing Task...</span>\n",
       "    └── <span style=\"color: #008000; text-decoration-color: #008000; font-weight: bold\">🤖 Agent: </span><span style=\"color: #008000; text-decoration-color: #008000\">Senior Support Representative</span>\n",
       "        <span style=\"color: #c0c0c0; text-decoration-color: #c0c0c0\">    Status: </span><span style=\"color: #008000; text-decoration-color: #008000; font-weight: bold\">In Progress</span>\n",
       "</pre>\n"
      ],
      "text/plain": [
       "\u001b[1;36m🚀 Crew: \u001b[0m\u001b[1;36mcrew\u001b[0m\n",
       "└── \u001b[1;33m📋 Task: 337fb178-4ed8-4513-91e6-1a74e3178b15\u001b[0m\n",
       "    \u001b[37m   Status: \u001b[0m\u001b[2;33mExecuting Task...\u001b[0m\n",
       "    └── \u001b[1;32m🤖 Agent: \u001b[0m\u001b[32mSenior Support Representative\u001b[0m\n",
       "        \u001b[37m    Status: \u001b[0m\u001b[1;32mIn Progress\u001b[0m\n"
      ]
     },
     "metadata": {},
     "output_type": "display_data"
    },
    {
     "data": {
      "text/html": [
       "<pre style=\"white-space:pre;overflow-x:auto;line-height:normal;font-family:Menlo,'DejaVu Sans Mono',consolas,'Courier New',monospace\">\n",
       "</pre>\n"
      ],
      "text/plain": [
       "\n"
      ]
     },
     "metadata": {},
     "output_type": "display_data"
    },
    {
     "data": {
      "text/html": [
       "<pre style=\"white-space:pre;overflow-x:auto;line-height:normal;font-family:Menlo,'DejaVu Sans Mono',consolas,'Courier New',monospace\"><span style=\"color: #008080; text-decoration-color: #008080; font-weight: bold\">🚀 Crew: crew</span>\n",
       "└── <span style=\"color: #808000; text-decoration-color: #808000; font-weight: bold\">📋 Task: 337fb178-4ed8-4513-91e6-1a74e3178b15</span>\n",
       "    <span style=\"color: #c0c0c0; text-decoration-color: #c0c0c0\">   Status: </span><span style=\"color: #bfbf7f; text-decoration-color: #bfbf7f\">Executing Task...</span>\n",
       "    └── <span style=\"color: #008000; text-decoration-color: #008000; font-weight: bold\">🤖 Agent: </span><span style=\"color: #008000; text-decoration-color: #008000\">Senior Support Representative</span>\n",
       "        <span style=\"color: #c0c0c0; text-decoration-color: #c0c0c0\">    Status: </span><span style=\"color: #008000; text-decoration-color: #008000; font-weight: bold\">In Progress</span>\n",
       "        └── <span style=\"color: #808000; text-decoration-color: #808000; font-weight: bold\">🔧 </span><span style=\"color: #808000; text-decoration-color: #808000\">Using Read website content (1)</span>\n",
       "</pre>\n"
      ],
      "text/plain": [
       "\u001b[1;36m🚀 Crew: \u001b[0m\u001b[1;36mcrew\u001b[0m\n",
       "└── \u001b[1;33m📋 Task: 337fb178-4ed8-4513-91e6-1a74e3178b15\u001b[0m\n",
       "    \u001b[37m   Status: \u001b[0m\u001b[2;33mExecuting Task...\u001b[0m\n",
       "    └── \u001b[1;32m🤖 Agent: \u001b[0m\u001b[32mSenior Support Representative\u001b[0m\n",
       "        \u001b[37m    Status: \u001b[0m\u001b[1;32mIn Progress\u001b[0m\n",
       "        └── \u001b[1;33m🔧 \u001b[0m\u001b[33mUsing Read website content (1)\u001b[0m\n"
      ]
     },
     "metadata": {},
     "output_type": "display_data"
    },
    {
     "data": {
      "text/html": [
       "<pre style=\"white-space:pre;overflow-x:auto;line-height:normal;font-family:Menlo,'DejaVu Sans Mono',consolas,'Courier New',monospace\">\n",
       "</pre>\n"
      ],
      "text/plain": [
       "\n"
      ]
     },
     "metadata": {},
     "output_type": "display_data"
    },
    {
     "data": {
      "text/html": [
       "<pre style=\"white-space:pre;overflow-x:auto;line-height:normal;font-family:Menlo,'DejaVu Sans Mono',consolas,'Courier New',monospace\"><span style=\"color: #008080; text-decoration-color: #008080; font-weight: bold\">🚀 Crew: crew</span>\n",
       "└── <span style=\"color: #808000; text-decoration-color: #808000; font-weight: bold\">📋 Task: 337fb178-4ed8-4513-91e6-1a74e3178b15</span>\n",
       "    <span style=\"color: #c0c0c0; text-decoration-color: #c0c0c0\">   Status: </span><span style=\"color: #bfbf7f; text-decoration-color: #bfbf7f\">Executing Task...</span>\n",
       "    └── <span style=\"color: #008000; text-decoration-color: #008000; font-weight: bold\">🤖 Agent: </span><span style=\"color: #008000; text-decoration-color: #008000\">Senior Support Representative</span>\n",
       "        <span style=\"color: #c0c0c0; text-decoration-color: #c0c0c0\">    Status: </span><span style=\"color: #008000; text-decoration-color: #008000; font-weight: bold\">In Progress</span>\n",
       "        └── <span style=\"color: #008000; text-decoration-color: #008000; font-weight: bold\">🔧 </span><span style=\"color: #008000; text-decoration-color: #008000\">Used Read website content (1)</span>\n",
       "</pre>\n"
      ],
      "text/plain": [
       "\u001b[1;36m🚀 Crew: \u001b[0m\u001b[1;36mcrew\u001b[0m\n",
       "└── \u001b[1;33m📋 Task: 337fb178-4ed8-4513-91e6-1a74e3178b15\u001b[0m\n",
       "    \u001b[37m   Status: \u001b[0m\u001b[2;33mExecuting Task...\u001b[0m\n",
       "    └── \u001b[1;32m🤖 Agent: \u001b[0m\u001b[32mSenior Support Representative\u001b[0m\n",
       "        \u001b[37m    Status: \u001b[0m\u001b[1;32mIn Progress\u001b[0m\n",
       "        └── \u001b[1;32m🔧 \u001b[0m\u001b[32mUsed Read website content (1)\u001b[0m\n"
      ]
     },
     "metadata": {},
     "output_type": "display_data"
    },
    {
     "data": {
      "text/html": [
       "<pre style=\"white-space:pre;overflow-x:auto;line-height:normal;font-family:Menlo,'DejaVu Sans Mono',consolas,'Courier New',monospace\">\n",
       "</pre>\n"
      ],
      "text/plain": [
       "\n"
      ]
     },
     "metadata": {},
     "output_type": "display_data"
    },
    {
     "name": "stdout",
     "output_type": "stream",
     "text": [
      "\n",
      "\n",
      "\u001b[1m\u001b[95m# Agent:\u001b[00m \u001b[1m\u001b[92mSenior Support Representative\u001b[00m\n",
      "\u001b[95m## Using tool:\u001b[00m \u001b[92mRead website content\u001b[00m\n",
      "\u001b[95m## Tool Input:\u001b[00m \u001b[92m\n",
      "\"{}\"\u001b[00m\n",
      "\u001b[95m## Tool Output:\u001b[00m \u001b[92m\n",
      "Memory - CrewAI CrewAI home page Search CrewAI docs crewAIInc / crewAI crewAIInc / crewAI Search... Navigation Core Concepts Memory Get Started Examples Community Get Started Introduction Installation Quickstart Changelog Guides Concepts Agents Crews Flows Advanced Core Concepts Agents Tasks Crews Flows LiteAgent Knowledge LLMs Processes Collaboration Training Memory Planning Testing CLI Tools Event Listeners Using LangChain Tools Using LlamaIndex Tools How to Guides Create Custom Tools Sequential Processes Hierarchical Process Create Your Own Manager Agent Connect to any LLM Customize Agents Using Multimodal Agents Coding Agents Force Tool Output as Result Human Input on Execution Kickoff Crew Asynchronously Kickoff Crew for Each Replay Tasks from Latest Crew Kickoff Conditional Tasks Agent Monitoring & Observability AgentOps Integration Arize Phoenix Langfuse Integration Langtrace Integration MLflow Integration OpenLIT Integration Opik Integration Portkey Integration Weave Integration Tools AI Mind Tool Apify Actors Bedrock Invoke Agent Tool Bedrock Knowledge Base Retriever Brave Search Browserbase Web Loader Code Docs RAG Search Code Interpreter Composio Tool CSV RAG Search DALL-E Tool Directory RAG Search Directory Read DOCX RAG Search EXA Search Web Loader File Read File Write Firecrawl Crawl Website Firecrawl Scrape Website Firecrawl Search Github Search Hyperbrowser Load Tool Linkup Search Tool LlamaIndex Tool Google Serper Search S3 Reader Tool S3 Writer Tool Scrapegraph Scrape Tool Scrape Element From Website Tool JSON RAG Search MDX RAG Search MySQL RAG Search MultiOn Tool NL2SQL Tool Patronus Evaluation Tools PDF RAG Search PG RAG Search Qdrant Vector Search Tool RAG Tool Scrape Website Scrapfly Scrape Website Tool Selenium Scraper Snowflake Search Tool Spider Scraper TXT RAG Search Vision Tool Weaviate Vector Search Website RAG Search XML RAG Search YouTube Channel RAG Search YouTube Video RAG Search Telemetry Telemetry Core Concepts Memory Leveraging memory systems in the CrewAI framework to enhance agent capabilities. ​ Introduction to Memory Systems in CrewAI\n",
      "The crewAI framework introduces a sophisticated memory system designed to significantly enhance the capabilities of AI agents.\n",
      "This system comprises short-term memory , long-term memory , entity memory , and contextual memory , each serving a unique purpose in aiding agents to remember,\n",
      "reason, and learn from past interactions.\n",
      "​ Memory System Components\n",
      "Component Description Short-Term Memory Temporarily stores recent interactions and outcomes using RAG , enabling agents to recall and utilize information relevant to their current context during the current executions. Long-Term Memory Preserves valuable insights and learnings from past executions, allowing agents to build and refine their knowledge over time. Entity Memory Captures and organizes information about entities (people, places, concepts) encountered during tasks, facilitating deeper understanding and relationship mapping. Uses RAG for storing entity information. Contextual Memory Maintains the context of interactions by combining ShortTermMemory , LongTermMemory , and EntityMemory , aiding in the coherence and relevance of agent responses over a sequence of tasks or a conversation. User Memory Stores user-specific information and preferences, enhancing personalization and user experience.\n",
      "​ How Memory Systems Empower Agents\n",
      "Contextual Awareness : With short-term and contextual memory, agents gain the ability to maintain context over a conversation or task sequence, leading to more coherent and relevant responses.\n",
      "Experience Accumulation : Long-term memory allows agents to accumulate experiences, learning from past actions to improve future decision-making and problem-solving.\n",
      "Entity Understanding : By maintaining entity memory, agents can recognize and remember key entities, enhancing their ability to process and interact with complex information.\n",
      "​ Implementing Memory in Your Crew\n",
      "When configuring a crew, you can enable and customize each memory component to suit the crew’s objectives and the nature of tasks it will perform.\n",
      "By default, the memory system is disabled, and you can ensure it is active by setting memory=True in the crew configuration.\n",
      "The memory will use OpenAI embeddings by default, but you can change it by setting embedder to a different model.\n",
      "It’s also possible to initialize the memory instance with your own instance.\n",
      "The ‘embedder’ only applies to Short-Term Memory which uses Chroma for RAG.\n",
      "The Long-Term Memory uses SQLite3 to store task results. Currently, there is no way to override these storage implementations.\n",
      "The data storage files are saved into a platform-specific location found using the appdirs package,\n",
      "and the name of the project can be overridden using the CREWAI_STORAGE_DIR environment variable.\n",
      "​ Example: Configuring Memory for a Crew\n",
      "Code from crewai import Crew , Agent , Task , Process\n",
      "# Assemble your crew with memory capabilities\n",
      "my_crew = Crew (\n",
      "agents = [ . . . ] ,\n",
      "tasks = [ . . . ] ,\n",
      "process = Process . sequential ,\n",
      "memory = True ,\n",
      "verbose = True\n",
      ")\n",
      "​ Example: Use Custom Memory Instances e.g FAISS as the VectorDB\n",
      "Code from crewai import Crew , Process\n",
      "from crewai . memory import LongTermMemory , ShortTermMemory , EntityMemory\n",
      "from crewai . memory . storage . rag_storage import RAGStorage\n",
      "from crewai . memory . storage . ltm_sqlite_storage import LTMSQLiteStorage\n",
      "from typing import List , Optional\n",
      "# Assemble your crew with memory capabilities\n",
      "my_crew : Crew = Crew (\n",
      "agents = [ . . . ] ,\n",
      "tasks = [ . . . ] ,\n",
      "process = Process . sequential ,\n",
      "memory = True ,\n",
      "# Long-term memory for persistent storage across sessions\n",
      "long_term_memory = LongTermMemory (\n",
      "storage = LTMSQLiteStorage (\n",
      "db_path = \"/my_crew1/long_term_memory_storage.db\"\n",
      ")\n",
      ") ,\n",
      "# Short-term memory for current context using RAG\n",
      "short_term_memory = ShortTermMemory (\n",
      "storage = RAGStorage (\n",
      "embedder_config = {\n",
      "\"provider\" : \"openai\" ,\n",
      "\"config\" : {\n",
      "\"model\" : 'text-embedding-3-small'\n",
      "}\n",
      "} ,\n",
      "type = \"short_term\" ,\n",
      "path = \"/my_crew1/\"\n",
      ")\n",
      ") ,\n",
      ") ,\n",
      "# Entity memory for tracking key information about entities\n",
      "entity_memory = EntityMemory (\n",
      "storage = RAGStorage (\n",
      "embedder_config = {\n",
      "\"provider\" : \"openai\" ,\n",
      "\"config\" : {\n",
      "\"model\" : 'text-embedding-3-small'\n",
      "}\n",
      "} ,\n",
      "type = \"short_term\" ,\n",
      "path = \"/my_crew1/\"\n",
      ")\n",
      ") ,\n",
      "verbose = True ,\n",
      ")\n",
      "​ Security Considerations\n",
      "When configuring memory storage:\n",
      "Use environment variables for storage paths (e.g., CREWAI_STORAGE_DIR )\n",
      "Never hardcode sensitive information like database credentials\n",
      "Consider access permissions for storage directories\n",
      "Use relative paths when possible to maintain portability\n",
      "Example using environment variables:\n",
      "import os\n",
      "from crewai import Crew\n",
      "from crewai . memory import LongTermMemory\n",
      "from crewai . memory . storage . ltm_sqlite_storage import LTMSQLiteStorage\n",
      "# Configure storage path using environment variable\n",
      "storage_path = os . getenv ( \"CREWAI_STORAGE_DIR\" , \"./storage\" )\n",
      "crew = Crew (\n",
      "memory = True ,\n",
      "long_term_memory = LongTermMemory (\n",
      "storage = LTMSQLiteStorage (\n",
      "db_path = \"{storage_path}/memory.db\" . format ( storage_path = storage_path )\n",
      ")\n",
      ")\n",
      ")\n",
      "​ Configuration Examples\n",
      "​ Basic Memory Configuration\n",
      "from crewai import Crew\n",
      "from crewai . memory import LongTermMemory\n",
      "# Simple memory configuration\n",
      "crew = Crew ( memory = True ) # Uses default storage locations\n",
      "​ Custom Storage Configuration\n",
      "from crewai import Crew\n",
      "from crewai . memory import LongTermMemory\n",
      "from crewai . memory . storage . ltm_sqlite_storage import LTMSQLiteStorage\n",
      "# Configure custom storage paths\n",
      "crew = Crew (\n",
      "memory = True ,\n",
      "long_term_memory = LongTermMemory (\n",
      "storage = LTMSQLiteStorage ( db_path = \"./memory.db\" )\n",
      ")\n",
      ")\n",
      "​ Integrating Mem0 for Enhanced User Memory\n",
      "Mem0 is a self-improving memory layer for LLM applications, enabling personalized AI experiences.\n",
      "​ Using Mem0 API platform\n",
      "To include user-specific memory you can get your API key here and refer the docs for adding user preferences. In this case user_memory is set to MemoryClient from mem0.\n",
      "Code import os\n",
      "from crewai import Crew , Process\n",
      "from mem0 import MemoryClient\n",
      "# Set environment variables for Mem0\n",
      "os . environ [ \"MEM0_API_KEY\" ] = \"m0-xx\"\n",
      "# Step 1: Create a Crew with User Memory\n",
      "crew = Crew (\n",
      "agents = [ . . . ] ,\n",
      "tasks = [ . . . ] ,\n",
      "verbose = True ,\n",
      "process = Process . sequential ,\n",
      "memory = True ,\n",
      "memory_config = {\n",
      "\"provider\" : \"mem0\" ,\n",
      "\"config\" : { \"user_id\" : \"john\" } ,\n",
      "\"user_memory\" : { } #Set user_memory explicitly to a dictionary, we are working on this issue.\n",
      "} ,\n",
      ")\n",
      "​ Additional Memory Configuration Options\n",
      "If you want to access a specific organization and project, you can set the org_id and project_id parameters in the memory configuration.\n",
      "Code from crewai import Crew\n",
      "crew = Crew (\n",
      "agents = [ . . . ] ,\n",
      "tasks = [ . . . ] ,\n",
      "verbose = True ,\n",
      "memory = True ,\n",
      "memory_config = {\n",
      "\"provider\" : \"mem0\" ,\n",
      "\"config\" : { \"user_id\" : \"john\" , \"org_id\" : \"my_org_id\" , \"project_id\" : \"my_project_id\" } ,\n",
      "\"user_memory\" : { } #Set user_memory explicitly to a dictionary, we are working on this issue.\n",
      "} ,\n",
      ")\n",
      "​ Using Local Mem0 memory\n",
      "If you want to use local mem0 memory, with a custom configuration, you can set a parameter local_mem0_config in the config itself.\n",
      "If both os environment key is set and local_mem0_config is given, the API platform takes higher priority over the local configuration.\n",
      "Check this mem0 local configuration docs for more understanding.\n",
      "In this case user_memory is set to Memory from mem0.\n",
      "Code from crewai import Crew\n",
      "#local mem0 config\n",
      "config = {\n",
      "\"vector_store\" : {\n",
      "\"provider\" : \"qdrant\" ,\n",
      "\"config\" : {\n",
      "\"host\" : \"localhost\" ,\n",
      "\"port\" : 6333\n",
      "}\n",
      "} ,\n",
      "\"llm\" : {\n",
      "\"provider\" : \"openai\" ,\n",
      "\"config\" : {\n",
      "\"api_key\" : \"your-api-key\" ,\n",
      "\"model\" : \"gpt-4\"\n",
      "}\n",
      "} ,\n",
      "\"embedder\" : {\n",
      "\"provider\" : \"openai\" ,\n",
      "\"config\" : {\n",
      "\"api_key\" : \"your-api-key\" ,\n",
      "\"model\" : \"text-embedding-3-small\"\n",
      "}\n",
      "} ,\n",
      "\"graph_store\" : {\n",
      "\"provider\" : \"neo4j\" ,\n",
      "\"config\" : {\n",
      "\"url\" : \"neo4j+s://your-instance\" ,\n",
      "\"username\" : \"neo4j\" ,\n",
      "\"password\" : \"password\"\n",
      "}\n",
      "} ,\n",
      "\"history_db_path\" : \"/path/to/history.db\" ,\n",
      "\"version\" : \"v1.1\" ,\n",
      "\"custom_fact_extraction_prompt\" : \"Optional custom prompt for fact extraction for memory\" ,\n",
      "\"custom_update_memory_prompt\" : \"Optional custom prompt for update memory\"\n",
      "}\n",
      "crew = Crew (\n",
      "agents = [ . . . ] ,\n",
      "tasks = [ . . . ] ,\n",
      "verbose = True ,\n",
      "memory = True ,\n",
      "memory_config = {\n",
      "\"provider\" : \"mem0\" ,\n",
      "\"config\" : { \"user_id\" : \"john\" , 'local_mem0_config' : config } ,\n",
      "\"user_memory\" : { } #Set user_memory explicitly to a dictionary, we are working on this issue.\n",
      "} ,\n",
      ")\n",
      "​ Additional Embedding Providers\n",
      "​ Using OpenAI embeddings (already default)\n",
      "Code from crewai import Crew , Agent , Task , Process\n",
      "my_crew = Crew (\n",
      "agents = [ . . . ] ,\n",
      "tasks = [ . . . ] ,\n",
      "process = Process . sequential ,\n",
      "memory = True ,\n",
      "verbose = True ,\n",
      "embedder = {\n",
      "\"provider\" : \"openai\" ,\n",
      "\"config\" : {\n",
      "\"model\" : 'text-embedding-3-small'\n",
      "}\n",
      "}\n",
      ")\n",
      "Alternatively, you can directly pass the OpenAIEmbeddingFunction to the embedder parameter.\n",
      "Example:\n",
      "Code from crewai import Crew , Agent , Task , Process\n",
      "from chromadb . utils . embedding_functions import OpenAIEmbeddingFunction\n",
      "my_crew = Crew (\n",
      "agents = [ . . . ] ,\n",
      "tasks = [ . . . ] ,\n",
      "process = Process . sequential ,\n",
      "memory = True ,\n",
      "verbose = True ,\n",
      "embedder = {\n",
      "\"provider\" : \"openai\" ,\n",
      "\"config\" : {\n",
      "\"model\" : 'text-embedding-3-small'\n",
      "}\n",
      "}\n",
      ")\n",
      "​ Using Ollama embeddings\n",
      "Code from crewai import Crew , Agent , Task , Process\n",
      "my_crew = Crew (\n",
      "agents = [ . . . ] ,\n",
      "tasks = [ . . . ] ,\n",
      "process = Process . sequential ,\n",
      "memory = True ,\n",
      "verbose = True ,\n",
      "embedder = {\n",
      "\"provider\" : \"ollama\" ,\n",
      "\"config\" : {\n",
      "\"model\" : \"mxbai-embed-large\"\n",
      "}\n",
      "}\n",
      ")\n",
      "​ Using Google AI embeddings\n",
      "​ Prerequisites\n",
      "Before using Google AI embeddings, ensure you have:\n",
      "Access to the Gemini API\n",
      "The necessary API keys and permissions\n",
      "You will need to update your pyproject.toml dependencies:\n",
      "dependencies = [\n",
      "\"google - generativeai > =0.8.4\" , #main version in January/2025 - crewai v.0.100.0 and crewai-tools 0.33.0\n",
      "\"crewai [ tools ] > =0.100.0 , <1.0.0\"\n",
      "]\n",
      "Code from crewai import Crew , Agent , Task , Process\n",
      "my_crew = Crew (\n",
      "agents = [ . . . ] ,\n",
      "tasks = [ . . . ] ,\n",
      "process = Process . sequential ,\n",
      "memory = True ,\n",
      "verbose = True ,\n",
      "embedder = {\n",
      "\"provider\" : \"google\" ,\n",
      "\"config\" : {\n",
      "\"api_key\" : \"<YOUR_API_KEY>\" ,\n",
      "\"model\" : \"<model_name>\"\n",
      "}\n",
      "}\n",
      ")\n",
      "​ Using Azure OpenAI embeddings\n",
      "Code from chromadb . utils . embedding_functions import OpenAIEmbeddingFunction\n",
      "from crewai import Crew , Agent , Task , Process\n",
      "my_crew = Crew (\n",
      "agents = [ . . . ] ,\n",
      "tasks = [ . . . ] ,\n",
      "process = Process . sequential ,\n",
      "memory = True ,\n",
      "verbose = True ,\n",
      "embedder = {\n",
      "\"provider\" : \"openai\" ,\n",
      "\"config\" : {\n",
      "\"api_key\" : \"YOUR_API_KEY\" ,\n",
      "\"api_base\" : \"YOUR_API_BASE_PATH\" ,\n",
      "\"api_version\" : \"YOUR_API_VERSION\" ,\n",
      "\"model_name\" : 'text-embedding-3-small'\n",
      "}\n",
      "}\n",
      ")\n",
      "​ Using Vertex AI embeddings\n",
      "Code from chromadb . utils . embedding_functions import GoogleVertexEmbeddingFunction\n",
      "from crewai import Crew , Agent , Task , Process\n",
      "my_crew = Crew (\n",
      "agents = [ . . . ] ,\n",
      "tasks = [ . . . ] ,\n",
      "process = Process . sequential ,\n",
      "memory = True ,\n",
      "verbose = True ,\n",
      "embedder = {\n",
      "\"provider\" : \"vertexai\" ,\n",
      "\"config\" : {\n",
      "\"project_id\" = \"YOUR_PROJECT_ID\" ,\n",
      "\"region\" = \"YOUR_REGION\" ,\n",
      "\"api_key\" = \"YOUR_API_KEY\" ,\n",
      "\"model_name\" = \"textembedding-gecko\"\n",
      "}\n",
      "}\n",
      ")\n",
      "​ Using Cohere embeddings\n",
      "Code from crewai import Crew , Agent , Task , Process\n",
      "my_crew = Crew (\n",
      "agents = [ . . . ] ,\n",
      "tasks = [ . . . ] ,\n",
      "process = Process . sequential ,\n",
      "memory = True ,\n",
      "verbose = True ,\n",
      "embedder = {\n",
      "\"provider\" : \"cohere\" ,\n",
      "\"config\" : {\n",
      "\"api_key\" : \"YOUR_API_KEY\" ,\n",
      "\"model\" : \"<model_name>\"\n",
      "}\n",
      "}\n",
      ")\n",
      "​ Using VoyageAI embeddings\n",
      "Code from crewai import Crew , Agent , Task , Process\n",
      "my_crew = Crew (\n",
      "agents = [ . . . ] ,\n",
      "tasks = [ . . . ] ,\n",
      "process = Process . sequential ,\n",
      "memory = True ,\n",
      "verbose = True ,\n",
      "embedder = {\n",
      "\"provider\" : \"voyageai\" ,\n",
      "\"config\" : {\n",
      "\"api_key\" : \"YOUR_API_KEY\" ,\n",
      "\"model\" : \"<model_name>\"\n",
      "}\n",
      "}\n",
      ")\n",
      "​ Using HuggingFace embeddings\n",
      "Code from crewai import Crew , Agent , Task , Process\n",
      "my_crew = Crew (\n",
      "agents = [ . . . ] ,\n",
      "tasks = [ . . . ] ,\n",
      "process = Process . sequential ,\n",
      "memory = True ,\n",
      "verbose = True ,\n",
      "embedder = {\n",
      "\"provider\" : \"huggingface\" ,\n",
      "\"config\" : {\n",
      "\"api_url\" : \"<api_url>\" ,\n",
      "}\n",
      "}\n",
      ")\n",
      "​ Using Watson embeddings\n",
      "Code from crewai import Crew , Agent , Task , Process\n",
      "# Note: Ensure you have installed and imported `ibm_watsonx_ai` for Watson embeddings to work.\n",
      "my_crew = Crew (\n",
      "agents = [ . . . ] ,\n",
      "tasks = [ . . . ] ,\n",
      "process = Process . sequential ,\n",
      "memory = True ,\n",
      "verbose = True ,\n",
      "embedder = {\n",
      "\"provider\" : \"watson\" ,\n",
      "\"config\" : {\n",
      "\"model\" : \"<model_name>\" ,\n",
      "\"api_url\" : \"<api_url>\" ,\n",
      "\"api_key\" : \"<YOUR_API_KEY>\" ,\n",
      "\"project_id\" : \"<YOUR_PROJECT_ID>\" ,\n",
      "}\n",
      "}\n",
      ")\n",
      "​ Using Amazon Bedrock embeddings\n",
      "Code # Note: Ensure you have installed `boto3` for Bedrock embeddings to work.\n",
      "import os\n",
      "import boto3\n",
      "from crewai import Crew , Agent , Task , Process\n",
      "boto3_session = boto3 . Session (\n",
      "region_name = os . environ . get ( \"AWS_REGION_NAME\" ) ,\n",
      "aws_access_key_id = os . environ . get ( \"AWS_ACCESS_KEY_ID\" ) ,\n",
      "aws_secret_access_key = os . environ . get ( \"AWS_SECRET_ACCESS_KEY\" )\n",
      ")\n",
      "my_crew = Crew (\n",
      "agents = [ . . . ] ,\n",
      "tasks = [ . . . ] ,\n",
      "process = Process . sequential ,\n",
      "memory = True ,\n",
      "embedder = {\n",
      "\"provider\" : \"bedrock\" ,\n",
      "\"config\" : {\n",
      "\"session\" : boto3_session ,\n",
      "\"model\" : \"amazon.titan-embed-text-v2:0\" ,\n",
      "\"vector_dimension\" : 1024\n",
      "}\n",
      "}\n",
      "verbose = True\n",
      ")\n",
      "​ Adding Custom Embedding Function\n",
      "Code from crewai import Crew , Agent , Task , Process\n",
      "from chromadb import Documents , EmbeddingFunction , Embeddings\n",
      "# Create a custom embedding function\n",
      "class CustomEmbedder ( EmbeddingFunction ) :\n",
      "def __call__ ( self , input : Documents ) - > Embeddings :\n",
      "# generate embeddings\n",
      "return [ 1 , 2 , 3 ] # this is a dummy embedding\n",
      "my_crew = Crew (\n",
      "agents = [ . . . ] ,\n",
      "tasks = [ . . . ] ,\n",
      "process = Process . sequential ,\n",
      "memory = True ,\n",
      "verbose = True ,\n",
      "embedder = {\n",
      "\"provider\" : \"custom\" ,\n",
      "\"config\" : {\n",
      "\"embedder\" : CustomEmbedder ( )\n",
      "}\n",
      "}\n",
      ")\n",
      "​ Resetting Memory via cli\n",
      "crewai reset-memories [ OPTIONS ]\n",
      "​ Resetting Memory Options\n",
      "Option Description Type Default -l , --long Reset LONG TERM memory. Flag (boolean) False -s , --short Reset SHORT TERM memory. Flag (boolean) False -e , --entities Reset ENTITIES memory. Flag (boolean) False -k , --kickoff-outputs Reset LATEST KICKOFF TASK OUTPUTS. Flag (boolean) False -kn , --knowledge Reset KNOWLEDEGE storage Flag (boolean) False -a , --all Reset ALL memories. Flag (boolean) False\n",
      "Note: To use the cli command you need to have your crew in a file called crew.py in the same directory.\n",
      "​ Resetting Memory via crew object\n",
      "my_crew = Crew (\n",
      "agents = [ . . . ] ,\n",
      "tasks = [ . . . ] ,\n",
      "process = Process . sequential ,\n",
      "memory = True ,\n",
      "verbose = True ,\n",
      "embedder = {\n",
      "\"provider\" : \"custom\" ,\n",
      "\"config\" : {\n",
      "\"embedder\" : CustomEmbedder ( )\n",
      "}\n",
      "}\n",
      ")\n",
      "my_crew . reset_memories ( command_type = 'all' ) # Resets all the memory\n",
      "​ Resetting Memory Options\n",
      "Command Type Description long Reset LONG TERM memory. short Reset SHORT TERM memory. entities Reset ENTITIES memory. kickoff_outputs Reset LATEST KICKOFF TASK OUTPUTS. knowledge Reset KNOWLEDGE memory. all Reset ALL memories.\n",
      "​ Benefits of Using CrewAI’s Memory System\n",
      "🦾 Adaptive Learning: Crews become more efficient over time, adapting to new information and refining their approach to tasks.\n",
      "🫡 Enhanced Personalization: Memory enables agents to remember user preferences and historical interactions, leading to personalized experiences.\n",
      "🧠 Improved Problem Solving: Access to a rich memory store aids agents in making more informed decisions, drawing on past learnings and contextual insights.\n",
      "​ Conclusion\n",
      "Integrating CrewAI’s memory system into your projects is straightforward. By leveraging the provided memory components and configurations,\n",
      "you can quickly empower your agents with the ability to remember, reason, and learn from their interactions, unlocking new levels of intelligence and capability. Was this page helpful? Yes No Training Planning website x github linkedin youtube reddit Powered by Mintlify On this page Introduction to Memory Systems in CrewAI Memory System Components How Memory Systems Empower Agents Implementing Memory in Your Crew Example: Configuring Memory for a Crew Example: Use Custom Memory Instances e.g FAISS as the VectorDB Security Considerations Configuration Examples Basic Memory Configuration Custom Storage Configuration Integrating Mem0 for Enhanced User Memory Using Mem0 API platform Additional Memory Configuration Options Using Local Mem0 memory Additional Embedding Providers Using OpenAI embeddings (already default) Using Ollama embeddings Using Google AI embeddings Prerequisites Using Azure OpenAI embeddings Using Vertex AI embeddings Using Cohere embeddings Using VoyageAI embeddings Using HuggingFace embeddings Using Watson embeddings Using Amazon Bedrock embeddings Adding Custom Embedding Function Resetting Memory via cli Resetting Memory Options Resetting Memory via crew object Resetting Memory Options Benefits of Using CrewAI’s Memory System Conclusion\u001b[00m\n"
     ]
    },
    {
     "data": {
      "text/html": [
       "<pre style=\"white-space:pre;overflow-x:auto;line-height:normal;font-family:Menlo,'DejaVu Sans Mono',consolas,'Courier New',monospace\"><span style=\"color: #008080; text-decoration-color: #008080; font-weight: bold\">🚀 Crew: crew</span>\n",
       "└── <span style=\"color: #808000; text-decoration-color: #808000; font-weight: bold\">📋 Task: 337fb178-4ed8-4513-91e6-1a74e3178b15</span>\n",
       "    <span style=\"color: #c0c0c0; text-decoration-color: #c0c0c0\">   Status: </span><span style=\"color: #bfbf7f; text-decoration-color: #bfbf7f\">Executing Task...</span>\n",
       "    └── <span style=\"color: #008000; text-decoration-color: #008000; font-weight: bold\">🤖 Agent: </span><span style=\"color: #008000; text-decoration-color: #008000\">Senior Support Representative</span>\n",
       "        <span style=\"color: #c0c0c0; text-decoration-color: #c0c0c0\">    Status: </span><span style=\"color: #008000; text-decoration-color: #008000; font-weight: bold\">In Progress</span>\n",
       "        ├── <span style=\"color: #008000; text-decoration-color: #008000; font-weight: bold\">🔧 </span><span style=\"color: #008000; text-decoration-color: #008000\">Used Read website content (1)</span>\n",
       "        └── <span style=\"color: #000080; text-decoration-color: #000080; font-weight: bold\">🧠 </span><span style=\"color: #000080; text-decoration-color: #000080\">Thinking...</span>\n",
       "</pre>\n"
      ],
      "text/plain": [
       "\u001b[1;36m🚀 Crew: \u001b[0m\u001b[1;36mcrew\u001b[0m\n",
       "└── \u001b[1;33m📋 Task: 337fb178-4ed8-4513-91e6-1a74e3178b15\u001b[0m\n",
       "    \u001b[37m   Status: \u001b[0m\u001b[2;33mExecuting Task...\u001b[0m\n",
       "    └── \u001b[1;32m🤖 Agent: \u001b[0m\u001b[32mSenior Support Representative\u001b[0m\n",
       "        \u001b[37m    Status: \u001b[0m\u001b[1;32mIn Progress\u001b[0m\n",
       "        ├── \u001b[1;32m🔧 \u001b[0m\u001b[32mUsed Read website content (1)\u001b[0m\n",
       "        └── \u001b[1;34m🧠 \u001b[0m\u001b[34mThinking...\u001b[0m\n"
      ]
     },
     "metadata": {},
     "output_type": "display_data"
    },
    {
     "data": {
      "text/html": [
       "<pre style=\"white-space:pre;overflow-x:auto;line-height:normal;font-family:Menlo,'DejaVu Sans Mono',consolas,'Courier New',monospace\">\n",
       "</pre>\n"
      ],
      "text/plain": [
       "\n"
      ]
     },
     "metadata": {},
     "output_type": "display_data"
    },
    {
     "data": {
      "text/html": [
       "<pre style=\"white-space:pre;overflow-x:auto;line-height:normal;font-family:Menlo,'DejaVu Sans Mono',consolas,'Courier New',monospace\"><span style=\"color: #008080; text-decoration-color: #008080; font-weight: bold\">🚀 Crew: crew</span>\n",
       "└── <span style=\"color: #808000; text-decoration-color: #808000; font-weight: bold\">📋 Task: 337fb178-4ed8-4513-91e6-1a74e3178b15</span>\n",
       "    <span style=\"color: #c0c0c0; text-decoration-color: #c0c0c0\">   Status: </span><span style=\"color: #bfbf7f; text-decoration-color: #bfbf7f\">Executing Task...</span>\n",
       "    └── <span style=\"color: #008000; text-decoration-color: #008000; font-weight: bold\">🤖 Agent: </span><span style=\"color: #008000; text-decoration-color: #008000\">Senior Support Representative</span>\n",
       "        <span style=\"color: #c0c0c0; text-decoration-color: #c0c0c0\">    Status: </span><span style=\"color: #008000; text-decoration-color: #008000; font-weight: bold\">In Progress</span>\n",
       "        └── <span style=\"color: #008000; text-decoration-color: #008000; font-weight: bold\">🔧 </span><span style=\"color: #008000; text-decoration-color: #008000\">Used Read website content (1)</span>\n",
       "</pre>\n"
      ],
      "text/plain": [
       "\u001b[1;36m🚀 Crew: \u001b[0m\u001b[1;36mcrew\u001b[0m\n",
       "└── \u001b[1;33m📋 Task: 337fb178-4ed8-4513-91e6-1a74e3178b15\u001b[0m\n",
       "    \u001b[37m   Status: \u001b[0m\u001b[2;33mExecuting Task...\u001b[0m\n",
       "    └── \u001b[1;32m🤖 Agent: \u001b[0m\u001b[32mSenior Support Representative\u001b[0m\n",
       "        \u001b[37m    Status: \u001b[0m\u001b[1;32mIn Progress\u001b[0m\n",
       "        └── \u001b[1;32m🔧 \u001b[0m\u001b[32mUsed Read website content (1)\u001b[0m\n"
      ]
     },
     "metadata": {},
     "output_type": "display_data"
    },
    {
     "data": {
      "text/html": [
       "<pre style=\"white-space:pre;overflow-x:auto;line-height:normal;font-family:Menlo,'DejaVu Sans Mono',consolas,'Courier New',monospace\">\n",
       "</pre>\n"
      ],
      "text/plain": [
       "\n"
      ]
     },
     "metadata": {},
     "output_type": "display_data"
    },
    {
     "name": "stdout",
     "output_type": "stream",
     "text": [
      "\n",
      "\n",
      "\u001b[1m\u001b[95m# Agent:\u001b[00m \u001b[1m\u001b[92mSenior Support Representative\u001b[00m\n",
      "\u001b[95m## Final Answer:\u001b[00m \u001b[92m\n",
      "Hello Andrew!\n",
      "\n",
      "Thank you for reaching out to us at DeepLearningAI. We’re thrilled to assist you in setting up a Crew with memory capabilities on your local server. Here’s a detailed breakdown of how to effectively add memory to your Crew agents:\n",
      "\n",
      "### Memory Overview\n",
      "CrewAI provides a sophisticated memory system that significantly enhances the capabilities of your AI agents. The different types of memory you can implement are:\n",
      "\n",
      "1. **Short-Term Memory**: Temporarily stores recent interactions, allowing agents to recall relevant information while engaged in ongoing tasks.\n",
      "2. **Long-Term Memory**: Preserves valuable insights and learnings from past interactions, enabling agents to build a more refined knowledge base over time.\n",
      "3. **Entity Memory**: Captures detailed information about specific entities (like people, places, concepts), facilitating improved contextual understanding and relationship mapping.\n",
      "4. **Contextual Memory**: Maintains the context of interactions by combining Short-Term, Long-Term, and Entity memory, aiding in the coherence and relevance of agent responses over a sequence of tasks or conversations.\n",
      "\n",
      "### Setting Up the Crew with Memory\n",
      "To enable and customize these memory components, follow these steps in your crew configuration:\n",
      "\n",
      "1. **Activate the Memory System**: The memory system is disabled by default. To enable it, set `memory=True` in your crew's configuration.\n",
      "2. **Customize Your Memory Settings**: You can adjust various other aspects, such as specifying embedding models for memory storage.\n",
      "\n",
      "### Example Configuration\n",
      "Here’s a practical example of how to configure your Crew with the desired memory capabilities:\n",
      "\n",
      "```python\n",
      "from crewai import Crew, Process\n",
      "from crewai.memory import LongTermMemory, ShortTermMemory, EntityMemory\n",
      "from crewai.memory.storage import RAGStorage, LTMSQLiteStorage\n",
      "\n",
      "my_crew = Crew(\n",
      "    agents=[...],  # Define your agents here\n",
      "    tasks=[...],   # Define your tasks here\n",
      "    process=Process.sequential,\n",
      "    memory=True,\n",
      "    \n",
      "    # Configuring Long-Term Memory\n",
      "    long_term_memory=LongTermMemory(\n",
      "        storage=LTMSQLiteStorage(\n",
      "            db_path=\"/my_crew1/long_term_memory_storage.db\"\n",
      "        )\n",
      "    ),\n",
      "\n",
      "    # Configuring Short-Term Memory\n",
      "    short_term_memory=ShortTermMemory(\n",
      "        storage=RAGStorage(\n",
      "            embedder_config={\n",
      "                \"provider\": \"openai\",\n",
      "                \"config\": {\n",
      "                    \"model\": 'text-embedding-3-small'  # Choose the appropriate embedding model\n",
      "                }\n",
      "            },\n",
      "            type=\"short_term\",\n",
      "            path=\"/my_crew1/\"\n",
      "        )\n",
      "    ),\n",
      "\n",
      "    # Configuring Entity Memory\n",
      "    entity_memory=EntityMemory(\n",
      "        storage=RAGStorage(\n",
      "            embedder_config={\n",
      "                \"provider\": \"openai\",\n",
      "                \"config\": {\n",
      "                    \"model\": 'text-embedding-3-small'  # Choose the appropriate embedding model\n",
      "                }\n",
      "            },\n",
      "            type=\"short_term\",\n",
      "            path=\"/my_crew1/\"\n",
      "        )\n",
      "    ),\n",
      "\n",
      "    verbose=True,\n",
      ")\n",
      "```\n",
      "\n",
      "### Important Notes\n",
      "- **Storage Paths**: Be careful to manage your storage paths thoughtfully and avoid hardcoding sensitive information for security reasons. This prevents potential risks associated with data breaches.\n",
      "- **Resetting Memory**: If you need to clear any memory types, you can utilize the `reset_memories` method available within the Crew object, providing flexibility in managing your agent's memory.\n",
      "- **Integration of Advanced Memory Features**: For personalized interaction experiences, consider using the Mem0 API to enhance user-specific memory capabilities.\n",
      "\n",
      "By following these guidelines, you should be well on your way to launching your Crew with the requisite memory functionalities! If you have any further questions or need additional assistance, please don't hesitate to reach out. We’re here to support you every step of the way!\n",
      "\n",
      "Best regards,  \n",
      "[Your Name]  \n",
      "CrewAI Support Team\u001b[00m\n",
      "\n",
      "\n"
     ]
    },
    {
     "name": "stderr",
     "output_type": "stream",
     "text": [
      "/home/patrick/.pyenv/versions/3.11.11/lib/python3.11/site-packages/chromadb/types.py:144: PydanticDeprecatedSince211: Accessing the 'model_fields' attribute on the instance is deprecated. Instead, you should access this attribute from the model class. Deprecated in Pydantic V2.11 to be removed in V3.0.\n",
      "  return self.model_fields  # pydantic 2.x\n",
      "/home/patrick/.pyenv/versions/3.11.11/lib/python3.11/site-packages/chromadb/types.py:144: PydanticDeprecatedSince211: Accessing the 'model_fields' attribute on the instance is deprecated. Instead, you should access this attribute from the model class. Deprecated in Pydantic V2.11 to be removed in V3.0.\n",
      "  return self.model_fields  # pydantic 2.x\n"
     ]
    },
    {
     "data": {
      "text/html": [
       "<pre style=\"white-space:pre;overflow-x:auto;line-height:normal;font-family:Menlo,'DejaVu Sans Mono',consolas,'Courier New',monospace\"><span style=\"color: #008080; text-decoration-color: #008080; font-weight: bold\">🚀 Crew: crew</span>\n",
       "└── <span style=\"color: #808000; text-decoration-color: #808000; font-weight: bold\">📋 Task: 337fb178-4ed8-4513-91e6-1a74e3178b15</span>\n",
       "    <span style=\"color: #c0c0c0; text-decoration-color: #c0c0c0\">   Status: </span><span style=\"color: #bfbf7f; text-decoration-color: #bfbf7f\">Executing Task...</span>\n",
       "    └── <span style=\"color: #008000; text-decoration-color: #008000; font-weight: bold\">🤖 Agent: </span><span style=\"color: #008000; text-decoration-color: #008000\">Senior Support Representative</span>\n",
       "        <span style=\"color: #c0c0c0; text-decoration-color: #c0c0c0\">    Status: </span><span style=\"color: #008000; text-decoration-color: #008000; font-weight: bold\">✅ Completed</span>\n",
       "        └── <span style=\"color: #008000; text-decoration-color: #008000; font-weight: bold\">🔧 </span><span style=\"color: #008000; text-decoration-color: #008000\">Used Read website content (1)</span>\n",
       "</pre>\n"
      ],
      "text/plain": [
       "\u001b[1;36m🚀 Crew: \u001b[0m\u001b[1;36mcrew\u001b[0m\n",
       "└── \u001b[1;33m📋 Task: 337fb178-4ed8-4513-91e6-1a74e3178b15\u001b[0m\n",
       "    \u001b[37m   Status: \u001b[0m\u001b[2;33mExecuting Task...\u001b[0m\n",
       "    └── \u001b[1;32m🤖 Agent: \u001b[0m\u001b[32mSenior Support Representative\u001b[0m\n",
       "        \u001b[37m    Status: \u001b[0m\u001b[1;32m✅ Completed\u001b[0m\n",
       "        └── \u001b[1;32m🔧 \u001b[0m\u001b[32mUsed Read website content (1)\u001b[0m\n"
      ]
     },
     "metadata": {},
     "output_type": "display_data"
    },
    {
     "data": {
      "text/html": [
       "<pre style=\"white-space:pre;overflow-x:auto;line-height:normal;font-family:Menlo,'DejaVu Sans Mono',consolas,'Courier New',monospace\">\n",
       "</pre>\n"
      ],
      "text/plain": [
       "\n"
      ]
     },
     "metadata": {},
     "output_type": "display_data"
    },
    {
     "data": {
      "text/html": [
       "<pre style=\"white-space:pre;overflow-x:auto;line-height:normal;font-family:Menlo,'DejaVu Sans Mono',consolas,'Courier New',monospace\"><span style=\"color: #008080; text-decoration-color: #008080; font-weight: bold\">🚀 Crew: crew</span>\n",
       "└── <span style=\"color: #008000; text-decoration-color: #008000; font-weight: bold\">📋 Task: 337fb178-4ed8-4513-91e6-1a74e3178b15</span>\n",
       "    <span style=\"color: #c0c0c0; text-decoration-color: #c0c0c0\">   Assigned to: </span><span style=\"color: #008000; text-decoration-color: #008000\">Senior Support Representative</span>\n",
       "    <span style=\"color: #c0c0c0; text-decoration-color: #c0c0c0\">   Status: </span><span style=\"color: #008000; text-decoration-color: #008000; font-weight: bold\">✅ Completed</span>\n",
       "    └── <span style=\"color: #008000; text-decoration-color: #008000; font-weight: bold\">🤖 Agent: </span><span style=\"color: #008000; text-decoration-color: #008000\">Senior Support Representative</span>\n",
       "        <span style=\"color: #c0c0c0; text-decoration-color: #c0c0c0\">    Status: </span><span style=\"color: #008000; text-decoration-color: #008000; font-weight: bold\">✅ Completed</span>\n",
       "        └── <span style=\"color: #008000; text-decoration-color: #008000; font-weight: bold\">🔧 </span><span style=\"color: #008000; text-decoration-color: #008000\">Used Read website content (1)</span>\n",
       "</pre>\n"
      ],
      "text/plain": [
       "\u001b[1;36m🚀 Crew: \u001b[0m\u001b[1;36mcrew\u001b[0m\n",
       "└── \u001b[1;32m📋 Task: 337fb178-4ed8-4513-91e6-1a74e3178b15\u001b[0m\n",
       "    \u001b[37m   Assigned to: \u001b[0m\u001b[32mSenior Support Representative\u001b[0m\n",
       "    \u001b[37m   Status: \u001b[0m\u001b[1;32m✅ Completed\u001b[0m\n",
       "    └── \u001b[1;32m🤖 Agent: \u001b[0m\u001b[32mSenior Support Representative\u001b[0m\n",
       "        \u001b[37m    Status: \u001b[0m\u001b[1;32m✅ Completed\u001b[0m\n",
       "        └── \u001b[1;32m🔧 \u001b[0m\u001b[32mUsed Read website content (1)\u001b[0m\n"
      ]
     },
     "metadata": {},
     "output_type": "display_data"
    },
    {
     "data": {
      "text/html": [
       "<pre style=\"white-space:pre;overflow-x:auto;line-height:normal;font-family:Menlo,'DejaVu Sans Mono',consolas,'Courier New',monospace\"><span style=\"color: #008000; text-decoration-color: #008000\">╭──────────────────────────────────────────────── Task Completion ────────────────────────────────────────────────╮</span>\n",
       "<span style=\"color: #008000; text-decoration-color: #008000\">│</span>                                                                                                                 <span style=\"color: #008000; text-decoration-color: #008000\">│</span>\n",
       "<span style=\"color: #008000; text-decoration-color: #008000\">│</span>  <span style=\"color: #008000; text-decoration-color: #008000; font-weight: bold\">Task Completed</span>                                                                                                 <span style=\"color: #008000; text-decoration-color: #008000\">│</span>\n",
       "<span style=\"color: #008000; text-decoration-color: #008000\">│</span>  <span style=\"color: #c0c0c0; text-decoration-color: #c0c0c0\">Name: </span><span style=\"color: #008000; text-decoration-color: #008000\">337fb178-4ed8-4513-91e6-1a74e3178b15</span>                                                                     <span style=\"color: #008000; text-decoration-color: #008000\">│</span>\n",
       "<span style=\"color: #008000; text-decoration-color: #008000\">│</span>  <span style=\"color: #c0c0c0; text-decoration-color: #c0c0c0\">Agent: </span><span style=\"color: #008000; text-decoration-color: #008000\">Senior Support Representative</span>                                                                           <span style=\"color: #008000; text-decoration-color: #008000\">│</span>\n",
       "<span style=\"color: #008000; text-decoration-color: #008000\">│</span>                                                                                                                 <span style=\"color: #008000; text-decoration-color: #008000\">│</span>\n",
       "<span style=\"color: #008000; text-decoration-color: #008000\">│</span>                                                                                                                 <span style=\"color: #008000; text-decoration-color: #008000\">│</span>\n",
       "<span style=\"color: #008000; text-decoration-color: #008000\">╰─────────────────────────────────────────────────────────────────────────────────────────────────────────────────╯</span>\n",
       "</pre>\n"
      ],
      "text/plain": [
       "\u001b[32m╭─\u001b[0m\u001b[32m───────────────────────────────────────────────\u001b[0m\u001b[32m Task Completion \u001b[0m\u001b[32m───────────────────────────────────────────────\u001b[0m\u001b[32m─╮\u001b[0m\n",
       "\u001b[32m│\u001b[0m                                                                                                                 \u001b[32m│\u001b[0m\n",
       "\u001b[32m│\u001b[0m  \u001b[1;32mTask Completed\u001b[0m                                                                                                 \u001b[32m│\u001b[0m\n",
       "\u001b[32m│\u001b[0m  \u001b[37mName: \u001b[0m\u001b[32m337fb178-4ed8-4513-91e6-1a74e3178b15\u001b[0m                                                                     \u001b[32m│\u001b[0m\n",
       "\u001b[32m│\u001b[0m  \u001b[37mAgent: \u001b[0m\u001b[32mSenior Support Representative\u001b[0m                                                                           \u001b[32m│\u001b[0m\n",
       "\u001b[32m│\u001b[0m                                                                                                                 \u001b[32m│\u001b[0m\n",
       "\u001b[32m│\u001b[0m                                                                                                                 \u001b[32m│\u001b[0m\n",
       "\u001b[32m╰─────────────────────────────────────────────────────────────────────────────────────────────────────────────────╯\u001b[0m\n"
      ]
     },
     "metadata": {},
     "output_type": "display_data"
    },
    {
     "data": {
      "text/html": [
       "<pre style=\"white-space:pre;overflow-x:auto;line-height:normal;font-family:Menlo,'DejaVu Sans Mono',consolas,'Courier New',monospace\">\n",
       "</pre>\n"
      ],
      "text/plain": [
       "\n"
      ]
     },
     "metadata": {},
     "output_type": "display_data"
    },
    {
     "data": {
      "text/html": [
       "<pre style=\"white-space:pre;overflow-x:auto;line-height:normal;font-family:Menlo,'DejaVu Sans Mono',consolas,'Courier New',monospace\"><span style=\"color: #008080; text-decoration-color: #008080; font-weight: bold\">🚀 Crew: crew</span>\n",
       "├── <span style=\"color: #008000; text-decoration-color: #008000; font-weight: bold\">📋 Task: 337fb178-4ed8-4513-91e6-1a74e3178b15</span>\n",
       "│   <span style=\"color: #c0c0c0; text-decoration-color: #c0c0c0\">   Assigned to: </span><span style=\"color: #008000; text-decoration-color: #008000\">Senior Support Representative</span>\n",
       "│   <span style=\"color: #c0c0c0; text-decoration-color: #c0c0c0\">   Status: </span><span style=\"color: #008000; text-decoration-color: #008000; font-weight: bold\">✅ Completed</span>\n",
       "│   └── <span style=\"color: #008000; text-decoration-color: #008000; font-weight: bold\">🤖 Agent: </span><span style=\"color: #008000; text-decoration-color: #008000\">Senior Support Representative</span>\n",
       "│       <span style=\"color: #c0c0c0; text-decoration-color: #c0c0c0\">    Status: </span><span style=\"color: #008000; text-decoration-color: #008000; font-weight: bold\">✅ Completed</span>\n",
       "│       └── <span style=\"color: #008000; text-decoration-color: #008000; font-weight: bold\">🔧 </span><span style=\"color: #008000; text-decoration-color: #008000\">Used Read website content (1)</span>\n",
       "└── <span style=\"color: #808000; text-decoration-color: #808000; font-weight: bold\">📋 Task: a778bb11-54e4-4cb2-bfd6-be4b7c872239</span>\n",
       "    <span style=\"color: #c0c0c0; text-decoration-color: #c0c0c0\">   Status: </span><span style=\"color: #bfbf7f; text-decoration-color: #bfbf7f\">Executing Task...</span>\n",
       "</pre>\n"
      ],
      "text/plain": [
       "\u001b[1;36m🚀 Crew: \u001b[0m\u001b[1;36mcrew\u001b[0m\n",
       "├── \u001b[1;32m📋 Task: 337fb178-4ed8-4513-91e6-1a74e3178b15\u001b[0m\n",
       "│   \u001b[37m   Assigned to: \u001b[0m\u001b[32mSenior Support Representative\u001b[0m\n",
       "│   \u001b[37m   Status: \u001b[0m\u001b[1;32m✅ Completed\u001b[0m\n",
       "│   └── \u001b[1;32m🤖 Agent: \u001b[0m\u001b[32mSenior Support Representative\u001b[0m\n",
       "│       \u001b[37m    Status: \u001b[0m\u001b[1;32m✅ Completed\u001b[0m\n",
       "│       └── \u001b[1;32m🔧 \u001b[0m\u001b[32mUsed Read website content (1)\u001b[0m\n",
       "└── \u001b[1;33m📋 Task: a778bb11-54e4-4cb2-bfd6-be4b7c872239\u001b[0m\n",
       "    \u001b[37m   Status: \u001b[0m\u001b[2;33mExecuting Task...\u001b[0m\n"
      ]
     },
     "metadata": {},
     "output_type": "display_data"
    },
    {
     "data": {
      "text/html": [
       "<pre style=\"white-space:pre;overflow-x:auto;line-height:normal;font-family:Menlo,'DejaVu Sans Mono',consolas,'Courier New',monospace\">\n",
       "</pre>\n"
      ],
      "text/plain": [
       "\n"
      ]
     },
     "metadata": {},
     "output_type": "display_data"
    },
    {
     "data": {
      "text/html": [
       "<pre style=\"white-space:pre;overflow-x:auto;line-height:normal;font-family:Menlo,'DejaVu Sans Mono',consolas,'Courier New',monospace\"><span style=\"color: #008080; text-decoration-color: #008080; font-weight: bold\">🚀 Crew: crew</span>\n",
       "├── <span style=\"color: #008000; text-decoration-color: #008000; font-weight: bold\">📋 Task: 337fb178-4ed8-4513-91e6-1a74e3178b15</span>\n",
       "│   <span style=\"color: #c0c0c0; text-decoration-color: #c0c0c0\">   Assigned to: </span><span style=\"color: #008000; text-decoration-color: #008000\">Senior Support Representative</span>\n",
       "│   <span style=\"color: #c0c0c0; text-decoration-color: #c0c0c0\">   Status: </span><span style=\"color: #008000; text-decoration-color: #008000; font-weight: bold\">✅ Completed</span>\n",
       "│   └── <span style=\"color: #008000; text-decoration-color: #008000; font-weight: bold\">🤖 Agent: </span><span style=\"color: #008000; text-decoration-color: #008000\">Senior Support Representative</span>\n",
       "│       <span style=\"color: #c0c0c0; text-decoration-color: #c0c0c0\">    Status: </span><span style=\"color: #008000; text-decoration-color: #008000; font-weight: bold\">✅ Completed</span>\n",
       "│       └── <span style=\"color: #008000; text-decoration-color: #008000; font-weight: bold\">🔧 </span><span style=\"color: #008000; text-decoration-color: #008000\">Used Read website content (1)</span>\n",
       "└── <span style=\"color: #808000; text-decoration-color: #808000; font-weight: bold\">📋 Task: a778bb11-54e4-4cb2-bfd6-be4b7c872239</span>\n",
       "    <span style=\"color: #c0c0c0; text-decoration-color: #c0c0c0\">   Status: </span><span style=\"color: #bfbf7f; text-decoration-color: #bfbf7f\">Executing Task...</span>\n",
       "    └── <span style=\"color: #008000; text-decoration-color: #008000; font-weight: bold\">🤖 Agent: </span><span style=\"color: #008000; text-decoration-color: #008000\">Support Quality Assurance Specialist</span>\n",
       "        <span style=\"color: #c0c0c0; text-decoration-color: #c0c0c0\">    Status: </span><span style=\"color: #008000; text-decoration-color: #008000; font-weight: bold\">In Progress</span>\n",
       "</pre>\n"
      ],
      "text/plain": [
       "\u001b[1;36m🚀 Crew: \u001b[0m\u001b[1;36mcrew\u001b[0m\n",
       "├── \u001b[1;32m📋 Task: 337fb178-4ed8-4513-91e6-1a74e3178b15\u001b[0m\n",
       "│   \u001b[37m   Assigned to: \u001b[0m\u001b[32mSenior Support Representative\u001b[0m\n",
       "│   \u001b[37m   Status: \u001b[0m\u001b[1;32m✅ Completed\u001b[0m\n",
       "│   └── \u001b[1;32m🤖 Agent: \u001b[0m\u001b[32mSenior Support Representative\u001b[0m\n",
       "│       \u001b[37m    Status: \u001b[0m\u001b[1;32m✅ Completed\u001b[0m\n",
       "│       └── \u001b[1;32m🔧 \u001b[0m\u001b[32mUsed Read website content (1)\u001b[0m\n",
       "└── \u001b[1;33m📋 Task: a778bb11-54e4-4cb2-bfd6-be4b7c872239\u001b[0m\n",
       "    \u001b[37m   Status: \u001b[0m\u001b[2;33mExecuting Task...\u001b[0m\n",
       "    └── \u001b[1;32m🤖 Agent: \u001b[0m\u001b[32mSupport Quality Assurance Specialist\u001b[0m\n",
       "        \u001b[37m    Status: \u001b[0m\u001b[1;32mIn Progress\u001b[0m\n"
      ]
     },
     "metadata": {},
     "output_type": "display_data"
    },
    {
     "data": {
      "text/html": [
       "<pre style=\"white-space:pre;overflow-x:auto;line-height:normal;font-family:Menlo,'DejaVu Sans Mono',consolas,'Courier New',monospace\">\n",
       "</pre>\n"
      ],
      "text/plain": [
       "\n"
      ]
     },
     "metadata": {},
     "output_type": "display_data"
    },
    {
     "name": "stdout",
     "output_type": "stream",
     "text": [
      "\u001b[1m\u001b[95m# Agent:\u001b[00m \u001b[1m\u001b[92mSupport Quality Assurance Specialist\u001b[00m\n",
      "\u001b[95m## Task:\u001b[00m \u001b[92mReview the response drafted by the Senior Support Representative for DeepLearningAI's inquiry. Ensure that the answer is comprehensive, accurate, and adheres to the high-quality standards expected for customer support.\n",
      "Verify that all parts of the customer's inquiry have been addressed thoroughly, with a helpful and friendly tone.\n",
      "Check for references and sources used to  find the information, ensuring the response is well-supported and leaves no questions unanswered.\u001b[00m\n"
     ]
    },
    {
     "data": {
      "text/html": [
       "<pre style=\"white-space:pre;overflow-x:auto;line-height:normal;font-family:Menlo,'DejaVu Sans Mono',consolas,'Courier New',monospace\"><span style=\"color: #008080; text-decoration-color: #008080; font-weight: bold\">🚀 Crew: crew</span>\n",
       "├── <span style=\"color: #008000; text-decoration-color: #008000; font-weight: bold\">📋 Task: 337fb178-4ed8-4513-91e6-1a74e3178b15</span>\n",
       "│   <span style=\"color: #c0c0c0; text-decoration-color: #c0c0c0\">   Assigned to: </span><span style=\"color: #008000; text-decoration-color: #008000\">Senior Support Representative</span>\n",
       "│   <span style=\"color: #c0c0c0; text-decoration-color: #c0c0c0\">   Status: </span><span style=\"color: #008000; text-decoration-color: #008000; font-weight: bold\">✅ Completed</span>\n",
       "│   └── <span style=\"color: #008000; text-decoration-color: #008000; font-weight: bold\">🤖 Agent: </span><span style=\"color: #008000; text-decoration-color: #008000\">Senior Support Representative</span>\n",
       "│       <span style=\"color: #c0c0c0; text-decoration-color: #c0c0c0\">    Status: </span><span style=\"color: #008000; text-decoration-color: #008000; font-weight: bold\">✅ Completed</span>\n",
       "│       └── <span style=\"color: #008000; text-decoration-color: #008000; font-weight: bold\">🔧 </span><span style=\"color: #008000; text-decoration-color: #008000\">Used Read website content (1)</span>\n",
       "└── <span style=\"color: #808000; text-decoration-color: #808000; font-weight: bold\">📋 Task: a778bb11-54e4-4cb2-bfd6-be4b7c872239</span>\n",
       "    <span style=\"color: #c0c0c0; text-decoration-color: #c0c0c0\">   Status: </span><span style=\"color: #bfbf7f; text-decoration-color: #bfbf7f\">Executing Task...</span>\n",
       "    └── <span style=\"color: #008000; text-decoration-color: #008000; font-weight: bold\">🤖 Agent: </span><span style=\"color: #008000; text-decoration-color: #008000\">Support Quality Assurance Specialist</span>\n",
       "        <span style=\"color: #c0c0c0; text-decoration-color: #c0c0c0\">    Status: </span><span style=\"color: #008000; text-decoration-color: #008000; font-weight: bold\">In Progress</span>\n",
       "        └── <span style=\"color: #000080; text-decoration-color: #000080; font-weight: bold\">🧠 </span><span style=\"color: #000080; text-decoration-color: #000080\">Thinking...</span>\n",
       "</pre>\n"
      ],
      "text/plain": [
       "\u001b[1;36m🚀 Crew: \u001b[0m\u001b[1;36mcrew\u001b[0m\n",
       "├── \u001b[1;32m📋 Task: 337fb178-4ed8-4513-91e6-1a74e3178b15\u001b[0m\n",
       "│   \u001b[37m   Assigned to: \u001b[0m\u001b[32mSenior Support Representative\u001b[0m\n",
       "│   \u001b[37m   Status: \u001b[0m\u001b[1;32m✅ Completed\u001b[0m\n",
       "│   └── \u001b[1;32m🤖 Agent: \u001b[0m\u001b[32mSenior Support Representative\u001b[0m\n",
       "│       \u001b[37m    Status: \u001b[0m\u001b[1;32m✅ Completed\u001b[0m\n",
       "│       └── \u001b[1;32m🔧 \u001b[0m\u001b[32mUsed Read website content (1)\u001b[0m\n",
       "└── \u001b[1;33m📋 Task: a778bb11-54e4-4cb2-bfd6-be4b7c872239\u001b[0m\n",
       "    \u001b[37m   Status: \u001b[0m\u001b[2;33mExecuting Task...\u001b[0m\n",
       "    └── \u001b[1;32m🤖 Agent: \u001b[0m\u001b[32mSupport Quality Assurance Specialist\u001b[0m\n",
       "        \u001b[37m    Status: \u001b[0m\u001b[1;32mIn Progress\u001b[0m\n",
       "        └── \u001b[1;34m🧠 \u001b[0m\u001b[34mThinking...\u001b[0m\n"
      ]
     },
     "metadata": {},
     "output_type": "display_data"
    },
    {
     "data": {
      "text/html": [
       "<pre style=\"white-space:pre;overflow-x:auto;line-height:normal;font-family:Menlo,'DejaVu Sans Mono',consolas,'Courier New',monospace\">\n",
       "</pre>\n"
      ],
      "text/plain": [
       "\n"
      ]
     },
     "metadata": {},
     "output_type": "display_data"
    },
    {
     "data": {
      "text/html": [
       "<pre style=\"white-space:pre;overflow-x:auto;line-height:normal;font-family:Menlo,'DejaVu Sans Mono',consolas,'Courier New',monospace\"><span style=\"color: #008080; text-decoration-color: #008080; font-weight: bold\">🚀 Crew: crew</span>\n",
       "├── <span style=\"color: #008000; text-decoration-color: #008000; font-weight: bold\">📋 Task: 337fb178-4ed8-4513-91e6-1a74e3178b15</span>\n",
       "│   <span style=\"color: #c0c0c0; text-decoration-color: #c0c0c0\">   Assigned to: </span><span style=\"color: #008000; text-decoration-color: #008000\">Senior Support Representative</span>\n",
       "│   <span style=\"color: #c0c0c0; text-decoration-color: #c0c0c0\">   Status: </span><span style=\"color: #008000; text-decoration-color: #008000; font-weight: bold\">✅ Completed</span>\n",
       "│   └── <span style=\"color: #008000; text-decoration-color: #008000; font-weight: bold\">🤖 Agent: </span><span style=\"color: #008000; text-decoration-color: #008000\">Senior Support Representative</span>\n",
       "│       <span style=\"color: #c0c0c0; text-decoration-color: #c0c0c0\">    Status: </span><span style=\"color: #008000; text-decoration-color: #008000; font-weight: bold\">✅ Completed</span>\n",
       "│       └── <span style=\"color: #008000; text-decoration-color: #008000; font-weight: bold\">🔧 </span><span style=\"color: #008000; text-decoration-color: #008000\">Used Read website content (1)</span>\n",
       "└── <span style=\"color: #808000; text-decoration-color: #808000; font-weight: bold\">📋 Task: a778bb11-54e4-4cb2-bfd6-be4b7c872239</span>\n",
       "    <span style=\"color: #c0c0c0; text-decoration-color: #c0c0c0\">   Status: </span><span style=\"color: #bfbf7f; text-decoration-color: #bfbf7f\">Executing Task...</span>\n",
       "    └── <span style=\"color: #008000; text-decoration-color: #008000; font-weight: bold\">🤖 Agent: </span><span style=\"color: #008000; text-decoration-color: #008000\">Support Quality Assurance Specialist</span>\n",
       "        <span style=\"color: #c0c0c0; text-decoration-color: #c0c0c0\">    Status: </span><span style=\"color: #008000; text-decoration-color: #008000; font-weight: bold\">In Progress</span>\n",
       "</pre>\n"
      ],
      "text/plain": [
       "\u001b[1;36m🚀 Crew: \u001b[0m\u001b[1;36mcrew\u001b[0m\n",
       "├── \u001b[1;32m📋 Task: 337fb178-4ed8-4513-91e6-1a74e3178b15\u001b[0m\n",
       "│   \u001b[37m   Assigned to: \u001b[0m\u001b[32mSenior Support Representative\u001b[0m\n",
       "│   \u001b[37m   Status: \u001b[0m\u001b[1;32m✅ Completed\u001b[0m\n",
       "│   └── \u001b[1;32m🤖 Agent: \u001b[0m\u001b[32mSenior Support Representative\u001b[0m\n",
       "│       \u001b[37m    Status: \u001b[0m\u001b[1;32m✅ Completed\u001b[0m\n",
       "│       └── \u001b[1;32m🔧 \u001b[0m\u001b[32mUsed Read website content (1)\u001b[0m\n",
       "└── \u001b[1;33m📋 Task: a778bb11-54e4-4cb2-bfd6-be4b7c872239\u001b[0m\n",
       "    \u001b[37m   Status: \u001b[0m\u001b[2;33mExecuting Task...\u001b[0m\n",
       "    └── \u001b[1;32m🤖 Agent: \u001b[0m\u001b[32mSupport Quality Assurance Specialist\u001b[0m\n",
       "        \u001b[37m    Status: \u001b[0m\u001b[1;32mIn Progress\u001b[0m\n"
      ]
     },
     "metadata": {},
     "output_type": "display_data"
    },
    {
     "data": {
      "text/html": [
       "<pre style=\"white-space:pre;overflow-x:auto;line-height:normal;font-family:Menlo,'DejaVu Sans Mono',consolas,'Courier New',monospace\">\n",
       "</pre>\n"
      ],
      "text/plain": [
       "\n"
      ]
     },
     "metadata": {},
     "output_type": "display_data"
    },
    {
     "name": "stdout",
     "output_type": "stream",
     "text": [
      "\n",
      "\n",
      "\u001b[1m\u001b[95m# Agent:\u001b[00m \u001b[1m\u001b[92mSupport Quality Assurance Specialist\u001b[00m\n",
      "\u001b[95m## Final Answer:\u001b[00m \u001b[92m\n",
      "Hello Andrew!\n",
      "\n",
      "Thank you for reaching out to us at DeepLearningAI. We’re excited to assist you in setting up a Crew with memory capabilities on your local server. Below is a detailed guide that covers all aspects of adding memory to your Crew agents effectively:\n",
      "\n",
      "### Memory Overview\n",
      "CrewAI offers a comprehensive memory system that significantly enhances your AI agents’ capabilities. You have several types of memory to choose from:\n",
      "\n",
      "1. **Short-Term Memory**: This allows agents to remember recent interactions during ongoing tasks, making them more responsive and relevant in conversations.\n",
      "2. **Long-Term Memory**: It helps retain important insights and learnings from past interactions, enabling your agents to develop a richer knowledge base over time.\n",
      "3. **Entity Memory**: This captures detailed information about specific entities (e.g., people, places, or concepts), which aids in creating better context and understanding relationships.\n",
      "4. **Contextual Memory**: This combines Short-Term, Long-Term, and Entity memory to keep track of conversations' context, ensuring coherent and relevant agent responses throughout interactions.\n",
      "\n",
      "### Setting Up the Crew with Memory\n",
      "To enable and customize memory components for your Crew, please follow these steps:\n",
      "\n",
      "1. **Activate the Memory System**: The memory system is disabled by default. To enable it, set `memory=True` in your crew's configuration.\n",
      "2. **Customize Your Memory Settings**: Adjust various aspects, including specifying embedding models for memory storage based on your needs.\n",
      "\n",
      "### Example Configuration\n",
      "Here’s a practical example of how to configure your Crew with the desired memory capabilities:\n",
      "\n",
      "```python\n",
      "from crewai import Crew, Process\n",
      "from crewai.memory import LongTermMemory, ShortTermMemory, EntityMemory\n",
      "from crewai.memory.storage import RAGStorage, LTMSQLiteStorage\n",
      "\n",
      "my_crew = Crew(\n",
      "    agents=[...],  # Define your agents here\n",
      "    tasks=[...],   # Define your tasks here\n",
      "    process=Process.sequential,\n",
      "    memory=True,\n",
      "    \n",
      "    # Configuring Long-Term Memory\n",
      "    long_term_memory=LongTermMemory(\n",
      "        storage=LTMSQLiteStorage(\n",
      "            db_path=\"/my_crew1/long_term_memory_storage.db\"\n",
      "        )\n",
      "    ),\n",
      "\n",
      "    # Configuring Short-Term Memory\n",
      "    short_term_memory=ShortTermMemory(\n",
      "        storage=RAGStorage(\n",
      "            embedder_config={\n",
      "                \"provider\": \"openai\",\n",
      "                \"config\": {\n",
      "                    \"model\": 'text-embedding-3-small'  # Choose the appropriate embedding model\n",
      "                }\n",
      "            },\n",
      "            type=\"short_term\",\n",
      "            path=\"/my_crew1/\"\n",
      "        )\n",
      "    ),\n",
      "\n",
      "    # Configuring Entity Memory\n",
      "    entity_memory=EntityMemory(\n",
      "        storage=RAGStorage(\n",
      "            embedder_config={\n",
      "                \"provider\": \"openai\",\n",
      "                \"config\": {\n",
      "                    \"model\": 'text-embedding-3-small'  # Choose the appropriate embedding model\n",
      "                }\n",
      "            },\n",
      "            type=\"short_term\",\n",
      "            path=\"/my_crew1/\"\n",
      "        )\n",
      "    ),\n",
      "    \n",
      "    verbose=True,\n",
      ")\n",
      "```\n",
      "\n",
      "### Important Notes\n",
      "- **Storage Paths**: Make sure to manage your storage paths carefully and avoid hardcoding sensitive information to protect against data breaches. This is crucial for maintaining security.\n",
      "- **Resetting Memory**: If you ever need to clear any memory types, you can use the `reset_memories` method available within the Crew object for easy management of your agents' memory.\n",
      "- **Integration of Advanced Memory Features**: Consider utilizing the Mem0 API to incorporate user-specific memory capabilities for a more personalized interaction experience.\n",
      "\n",
      "By following these guidelines, you should be on the right track to launching your Crew with the desired memory functionalities! If you have any further questions or need more assistance, please don’t hesitate to reach out. We’re here to support you every step of the way!\n",
      "\n",
      "Best regards,  \n",
      "[Your Name]  \n",
      "CrewAI Support Team\u001b[00m\n",
      "\n",
      "\n"
     ]
    },
    {
     "name": "stderr",
     "output_type": "stream",
     "text": [
      "/home/patrick/.pyenv/versions/3.11.11/lib/python3.11/site-packages/chromadb/types.py:144: PydanticDeprecatedSince211: Accessing the 'model_fields' attribute on the instance is deprecated. Instead, you should access this attribute from the model class. Deprecated in Pydantic V2.11 to be removed in V3.0.\n",
      "  return self.model_fields  # pydantic 2.x\n",
      "/home/patrick/.pyenv/versions/3.11.11/lib/python3.11/site-packages/chromadb/types.py:144: PydanticDeprecatedSince211: Accessing the 'model_fields' attribute on the instance is deprecated. Instead, you should access this attribute from the model class. Deprecated in Pydantic V2.11 to be removed in V3.0.\n",
      "  return self.model_fields  # pydantic 2.x\n"
     ]
    },
    {
     "data": {
      "text/html": [
       "<pre style=\"white-space:pre;overflow-x:auto;line-height:normal;font-family:Menlo,'DejaVu Sans Mono',consolas,'Courier New',monospace\"><span style=\"color: #008080; text-decoration-color: #008080; font-weight: bold\">🚀 Crew: crew</span>\n",
       "├── <span style=\"color: #008000; text-decoration-color: #008000; font-weight: bold\">📋 Task: 337fb178-4ed8-4513-91e6-1a74e3178b15</span>\n",
       "│   <span style=\"color: #c0c0c0; text-decoration-color: #c0c0c0\">   Assigned to: </span><span style=\"color: #008000; text-decoration-color: #008000\">Senior Support Representative</span>\n",
       "│   <span style=\"color: #c0c0c0; text-decoration-color: #c0c0c0\">   Status: </span><span style=\"color: #008000; text-decoration-color: #008000; font-weight: bold\">✅ Completed</span>\n",
       "│   └── <span style=\"color: #008000; text-decoration-color: #008000; font-weight: bold\">🤖 Agent: </span><span style=\"color: #008000; text-decoration-color: #008000\">Senior Support Representative</span>\n",
       "│       <span style=\"color: #c0c0c0; text-decoration-color: #c0c0c0\">    Status: </span><span style=\"color: #008000; text-decoration-color: #008000; font-weight: bold\">✅ Completed</span>\n",
       "│       └── <span style=\"color: #008000; text-decoration-color: #008000; font-weight: bold\">🔧 </span><span style=\"color: #008000; text-decoration-color: #008000\">Used Read website content (1)</span>\n",
       "└── <span style=\"color: #808000; text-decoration-color: #808000; font-weight: bold\">📋 Task: a778bb11-54e4-4cb2-bfd6-be4b7c872239</span>\n",
       "    <span style=\"color: #c0c0c0; text-decoration-color: #c0c0c0\">   Status: </span><span style=\"color: #bfbf7f; text-decoration-color: #bfbf7f\">Executing Task...</span>\n",
       "    └── <span style=\"color: #008000; text-decoration-color: #008000; font-weight: bold\">🤖 Agent: </span><span style=\"color: #008000; text-decoration-color: #008000\">Support Quality Assurance Specialist</span>\n",
       "        <span style=\"color: #c0c0c0; text-decoration-color: #c0c0c0\">    Status: </span><span style=\"color: #008000; text-decoration-color: #008000; font-weight: bold\">✅ Completed</span>\n",
       "</pre>\n"
      ],
      "text/plain": [
       "\u001b[1;36m🚀 Crew: \u001b[0m\u001b[1;36mcrew\u001b[0m\n",
       "├── \u001b[1;32m📋 Task: 337fb178-4ed8-4513-91e6-1a74e3178b15\u001b[0m\n",
       "│   \u001b[37m   Assigned to: \u001b[0m\u001b[32mSenior Support Representative\u001b[0m\n",
       "│   \u001b[37m   Status: \u001b[0m\u001b[1;32m✅ Completed\u001b[0m\n",
       "│   └── \u001b[1;32m🤖 Agent: \u001b[0m\u001b[32mSenior Support Representative\u001b[0m\n",
       "│       \u001b[37m    Status: \u001b[0m\u001b[1;32m✅ Completed\u001b[0m\n",
       "│       └── \u001b[1;32m🔧 \u001b[0m\u001b[32mUsed Read website content (1)\u001b[0m\n",
       "└── \u001b[1;33m📋 Task: a778bb11-54e4-4cb2-bfd6-be4b7c872239\u001b[0m\n",
       "    \u001b[37m   Status: \u001b[0m\u001b[2;33mExecuting Task...\u001b[0m\n",
       "    └── \u001b[1;32m🤖 Agent: \u001b[0m\u001b[32mSupport Quality Assurance Specialist\u001b[0m\n",
       "        \u001b[37m    Status: \u001b[0m\u001b[1;32m✅ Completed\u001b[0m\n"
      ]
     },
     "metadata": {},
     "output_type": "display_data"
    },
    {
     "data": {
      "text/html": [
       "<pre style=\"white-space:pre;overflow-x:auto;line-height:normal;font-family:Menlo,'DejaVu Sans Mono',consolas,'Courier New',monospace\">\n",
       "</pre>\n"
      ],
      "text/plain": [
       "\n"
      ]
     },
     "metadata": {},
     "output_type": "display_data"
    },
    {
     "data": {
      "text/html": [
       "<pre style=\"white-space:pre;overflow-x:auto;line-height:normal;font-family:Menlo,'DejaVu Sans Mono',consolas,'Courier New',monospace\"><span style=\"color: #008080; text-decoration-color: #008080; font-weight: bold\">🚀 Crew: crew</span>\n",
       "├── <span style=\"color: #008000; text-decoration-color: #008000; font-weight: bold\">📋 Task: 337fb178-4ed8-4513-91e6-1a74e3178b15</span>\n",
       "│   <span style=\"color: #c0c0c0; text-decoration-color: #c0c0c0\">   Assigned to: </span><span style=\"color: #008000; text-decoration-color: #008000\">Senior Support Representative</span>\n",
       "│   <span style=\"color: #c0c0c0; text-decoration-color: #c0c0c0\">   Status: </span><span style=\"color: #008000; text-decoration-color: #008000; font-weight: bold\">✅ Completed</span>\n",
       "│   └── <span style=\"color: #008000; text-decoration-color: #008000; font-weight: bold\">🤖 Agent: </span><span style=\"color: #008000; text-decoration-color: #008000\">Senior Support Representative</span>\n",
       "│       <span style=\"color: #c0c0c0; text-decoration-color: #c0c0c0\">    Status: </span><span style=\"color: #008000; text-decoration-color: #008000; font-weight: bold\">✅ Completed</span>\n",
       "│       └── <span style=\"color: #008000; text-decoration-color: #008000; font-weight: bold\">🔧 </span><span style=\"color: #008000; text-decoration-color: #008000\">Used Read website content (1)</span>\n",
       "└── <span style=\"color: #008000; text-decoration-color: #008000; font-weight: bold\">📋 Task: a778bb11-54e4-4cb2-bfd6-be4b7c872239</span>\n",
       "    <span style=\"color: #c0c0c0; text-decoration-color: #c0c0c0\">   Assigned to: </span><span style=\"color: #008000; text-decoration-color: #008000\">Support Quality Assurance Specialist</span>\n",
       "    <span style=\"color: #c0c0c0; text-decoration-color: #c0c0c0\">   Status: </span><span style=\"color: #008000; text-decoration-color: #008000; font-weight: bold\">✅ Completed</span>\n",
       "    └── <span style=\"color: #008000; text-decoration-color: #008000; font-weight: bold\">🤖 Agent: </span><span style=\"color: #008000; text-decoration-color: #008000\">Support Quality Assurance Specialist</span>\n",
       "        <span style=\"color: #c0c0c0; text-decoration-color: #c0c0c0\">    Status: </span><span style=\"color: #008000; text-decoration-color: #008000; font-weight: bold\">✅ Completed</span>\n",
       "</pre>\n"
      ],
      "text/plain": [
       "\u001b[1;36m🚀 Crew: \u001b[0m\u001b[1;36mcrew\u001b[0m\n",
       "├── \u001b[1;32m📋 Task: 337fb178-4ed8-4513-91e6-1a74e3178b15\u001b[0m\n",
       "│   \u001b[37m   Assigned to: \u001b[0m\u001b[32mSenior Support Representative\u001b[0m\n",
       "│   \u001b[37m   Status: \u001b[0m\u001b[1;32m✅ Completed\u001b[0m\n",
       "│   └── \u001b[1;32m🤖 Agent: \u001b[0m\u001b[32mSenior Support Representative\u001b[0m\n",
       "│       \u001b[37m    Status: \u001b[0m\u001b[1;32m✅ Completed\u001b[0m\n",
       "│       └── \u001b[1;32m🔧 \u001b[0m\u001b[32mUsed Read website content (1)\u001b[0m\n",
       "└── \u001b[1;32m📋 Task: a778bb11-54e4-4cb2-bfd6-be4b7c872239\u001b[0m\n",
       "    \u001b[37m   Assigned to: \u001b[0m\u001b[32mSupport Quality Assurance Specialist\u001b[0m\n",
       "    \u001b[37m   Status: \u001b[0m\u001b[1;32m✅ Completed\u001b[0m\n",
       "    └── \u001b[1;32m🤖 Agent: \u001b[0m\u001b[32mSupport Quality Assurance Specialist\u001b[0m\n",
       "        \u001b[37m    Status: \u001b[0m\u001b[1;32m✅ Completed\u001b[0m\n"
      ]
     },
     "metadata": {},
     "output_type": "display_data"
    },
    {
     "data": {
      "text/html": [
       "<pre style=\"white-space:pre;overflow-x:auto;line-height:normal;font-family:Menlo,'DejaVu Sans Mono',consolas,'Courier New',monospace\"><span style=\"color: #008000; text-decoration-color: #008000\">╭──────────────────────────────────────────────── Task Completion ────────────────────────────────────────────────╮</span>\n",
       "<span style=\"color: #008000; text-decoration-color: #008000\">│</span>                                                                                                                 <span style=\"color: #008000; text-decoration-color: #008000\">│</span>\n",
       "<span style=\"color: #008000; text-decoration-color: #008000\">│</span>  <span style=\"color: #008000; text-decoration-color: #008000; font-weight: bold\">Task Completed</span>                                                                                                 <span style=\"color: #008000; text-decoration-color: #008000\">│</span>\n",
       "<span style=\"color: #008000; text-decoration-color: #008000\">│</span>  <span style=\"color: #c0c0c0; text-decoration-color: #c0c0c0\">Name: </span><span style=\"color: #008000; text-decoration-color: #008000\">a778bb11-54e4-4cb2-bfd6-be4b7c872239</span>                                                                     <span style=\"color: #008000; text-decoration-color: #008000\">│</span>\n",
       "<span style=\"color: #008000; text-decoration-color: #008000\">│</span>  <span style=\"color: #c0c0c0; text-decoration-color: #c0c0c0\">Agent: </span><span style=\"color: #008000; text-decoration-color: #008000\">Support Quality Assurance Specialist</span>                                                                    <span style=\"color: #008000; text-decoration-color: #008000\">│</span>\n",
       "<span style=\"color: #008000; text-decoration-color: #008000\">│</span>                                                                                                                 <span style=\"color: #008000; text-decoration-color: #008000\">│</span>\n",
       "<span style=\"color: #008000; text-decoration-color: #008000\">│</span>                                                                                                                 <span style=\"color: #008000; text-decoration-color: #008000\">│</span>\n",
       "<span style=\"color: #008000; text-decoration-color: #008000\">╰─────────────────────────────────────────────────────────────────────────────────────────────────────────────────╯</span>\n",
       "</pre>\n"
      ],
      "text/plain": [
       "\u001b[32m╭─\u001b[0m\u001b[32m───────────────────────────────────────────────\u001b[0m\u001b[32m Task Completion \u001b[0m\u001b[32m───────────────────────────────────────────────\u001b[0m\u001b[32m─╮\u001b[0m\n",
       "\u001b[32m│\u001b[0m                                                                                                                 \u001b[32m│\u001b[0m\n",
       "\u001b[32m│\u001b[0m  \u001b[1;32mTask Completed\u001b[0m                                                                                                 \u001b[32m│\u001b[0m\n",
       "\u001b[32m│\u001b[0m  \u001b[37mName: \u001b[0m\u001b[32ma778bb11-54e4-4cb2-bfd6-be4b7c872239\u001b[0m                                                                     \u001b[32m│\u001b[0m\n",
       "\u001b[32m│\u001b[0m  \u001b[37mAgent: \u001b[0m\u001b[32mSupport Quality Assurance Specialist\u001b[0m                                                                    \u001b[32m│\u001b[0m\n",
       "\u001b[32m│\u001b[0m                                                                                                                 \u001b[32m│\u001b[0m\n",
       "\u001b[32m│\u001b[0m                                                                                                                 \u001b[32m│\u001b[0m\n",
       "\u001b[32m╰─────────────────────────────────────────────────────────────────────────────────────────────────────────────────╯\u001b[0m\n"
      ]
     },
     "metadata": {},
     "output_type": "display_data"
    },
    {
     "data": {
      "text/html": [
       "<pre style=\"white-space:pre;overflow-x:auto;line-height:normal;font-family:Menlo,'DejaVu Sans Mono',consolas,'Courier New',monospace\">\n",
       "</pre>\n"
      ],
      "text/plain": [
       "\n"
      ]
     },
     "metadata": {},
     "output_type": "display_data"
    },
    {
     "data": {
      "text/html": [
       "<pre style=\"white-space:pre;overflow-x:auto;line-height:normal;font-family:Menlo,'DejaVu Sans Mono',consolas,'Courier New',monospace\"><span style=\"color: #008000; text-decoration-color: #008000\">╭──────────────────────────────────────────────── Crew Completion ────────────────────────────────────────────────╮</span>\n",
       "<span style=\"color: #008000; text-decoration-color: #008000\">│</span>                                                                                                                 <span style=\"color: #008000; text-decoration-color: #008000\">│</span>\n",
       "<span style=\"color: #008000; text-decoration-color: #008000\">│</span>  <span style=\"color: #008000; text-decoration-color: #008000; font-weight: bold\">Crew Execution Completed</span>                                                                                       <span style=\"color: #008000; text-decoration-color: #008000\">│</span>\n",
       "<span style=\"color: #008000; text-decoration-color: #008000\">│</span>  <span style=\"color: #c0c0c0; text-decoration-color: #c0c0c0\">Name: </span><span style=\"color: #008000; text-decoration-color: #008000\">crew</span>                                                                                                     <span style=\"color: #008000; text-decoration-color: #008000\">│</span>\n",
       "<span style=\"color: #008000; text-decoration-color: #008000\">│</span>  <span style=\"color: #c0c0c0; text-decoration-color: #c0c0c0\">ID: </span><span style=\"color: #008000; text-decoration-color: #008000\">30b557a6-7a8e-4898-9c6f-b28fb8f88706</span>                                                                       <span style=\"color: #008000; text-decoration-color: #008000\">│</span>\n",
       "<span style=\"color: #008000; text-decoration-color: #008000\">│</span>                                                                                                                 <span style=\"color: #008000; text-decoration-color: #008000\">│</span>\n",
       "<span style=\"color: #008000; text-decoration-color: #008000\">│</span>                                                                                                                 <span style=\"color: #008000; text-decoration-color: #008000\">│</span>\n",
       "<span style=\"color: #008000; text-decoration-color: #008000\">╰─────────────────────────────────────────────────────────────────────────────────────────────────────────────────╯</span>\n",
       "</pre>\n"
      ],
      "text/plain": [
       "\u001b[32m╭─\u001b[0m\u001b[32m───────────────────────────────────────────────\u001b[0m\u001b[32m Crew Completion \u001b[0m\u001b[32m───────────────────────────────────────────────\u001b[0m\u001b[32m─╮\u001b[0m\n",
       "\u001b[32m│\u001b[0m                                                                                                                 \u001b[32m│\u001b[0m\n",
       "\u001b[32m│\u001b[0m  \u001b[1;32mCrew Execution Completed\u001b[0m                                                                                       \u001b[32m│\u001b[0m\n",
       "\u001b[32m│\u001b[0m  \u001b[37mName: \u001b[0m\u001b[32mcrew\u001b[0m                                                                                                     \u001b[32m│\u001b[0m\n",
       "\u001b[32m│\u001b[0m  \u001b[37mID: \u001b[0m\u001b[32m30b557a6-7a8e-4898-9c6f-b28fb8f88706\u001b[0m                                                                       \u001b[32m│\u001b[0m\n",
       "\u001b[32m│\u001b[0m                                                                                                                 \u001b[32m│\u001b[0m\n",
       "\u001b[32m│\u001b[0m                                                                                                                 \u001b[32m│\u001b[0m\n",
       "\u001b[32m╰─────────────────────────────────────────────────────────────────────────────────────────────────────────────────╯\u001b[0m\n"
      ]
     },
     "metadata": {},
     "output_type": "display_data"
    },
    {
     "data": {
      "text/html": [
       "<pre style=\"white-space:pre;overflow-x:auto;line-height:normal;font-family:Menlo,'DejaVu Sans Mono',consolas,'Courier New',monospace\">\n",
       "</pre>\n"
      ],
      "text/plain": [
       "\n"
      ]
     },
     "metadata": {},
     "output_type": "display_data"
    }
   ],
   "source": [
    "inputs = {\n",
    "    \"customer\": \"DeepLearningAI\",\n",
    "    \"person\": \"Andrew Ng\",\n",
    "    \"inquiry\": \"I need help with setting up a Crew \"\n",
    "               \"and kicking it off, specifically \"\n",
    "               \"how can I add memory (short, long-term and entity) to my crew agents running locally or in my own server? \"\n",
    "               \"Can you provide guidance?\"\n",
    "}\n",
    "\n",
    "result = crew.kickoff(inputs=inputs)"
   ]
  },
  {
   "cell_type": "code",
   "execution_count": 11,
   "metadata": {},
   "outputs": [
    {
     "data": {
      "text/markdown": [
       "Hello Andrew!\n",
       "\n",
       "Thank you for reaching out to us at DeepLearningAI. We’re excited to assist you in setting up a Crew with memory capabilities on your local server. Below is a detailed guide that covers all aspects of adding memory to your Crew agents effectively:\n",
       "\n",
       "### Memory Overview\n",
       "CrewAI offers a comprehensive memory system that significantly enhances your AI agents’ capabilities. You have several types of memory to choose from:\n",
       "\n",
       "1. **Short-Term Memory**: This allows agents to remember recent interactions during ongoing tasks, making them more responsive and relevant in conversations.\n",
       "2. **Long-Term Memory**: It helps retain important insights and learnings from past interactions, enabling your agents to develop a richer knowledge base over time.\n",
       "3. **Entity Memory**: This captures detailed information about specific entities (e.g., people, places, or concepts), which aids in creating better context and understanding relationships.\n",
       "4. **Contextual Memory**: This combines Short-Term, Long-Term, and Entity memory to keep track of conversations' context, ensuring coherent and relevant agent responses throughout interactions.\n",
       "\n",
       "### Setting Up the Crew with Memory\n",
       "To enable and customize memory components for your Crew, please follow these steps:\n",
       "\n",
       "1. **Activate the Memory System**: The memory system is disabled by default. To enable it, set `memory=True` in your crew's configuration.\n",
       "2. **Customize Your Memory Settings**: Adjust various aspects, including specifying embedding models for memory storage based on your needs.\n",
       "\n",
       "### Example Configuration\n",
       "Here’s a practical example of how to configure your Crew with the desired memory capabilities:\n",
       "\n",
       "```python\n",
       "from crewai import Crew, Process\n",
       "from crewai.memory import LongTermMemory, ShortTermMemory, EntityMemory\n",
       "from crewai.memory.storage import RAGStorage, LTMSQLiteStorage\n",
       "\n",
       "my_crew = Crew(\n",
       "    agents=[...],  # Define your agents here\n",
       "    tasks=[...],   # Define your tasks here\n",
       "    process=Process.sequential,\n",
       "    memory=True,\n",
       "    \n",
       "    # Configuring Long-Term Memory\n",
       "    long_term_memory=LongTermMemory(\n",
       "        storage=LTMSQLiteStorage(\n",
       "            db_path=\"/my_crew1/long_term_memory_storage.db\"\n",
       "        )\n",
       "    ),\n",
       "\n",
       "    # Configuring Short-Term Memory\n",
       "    short_term_memory=ShortTermMemory(\n",
       "        storage=RAGStorage(\n",
       "            embedder_config={\n",
       "                \"provider\": \"openai\",\n",
       "                \"config\": {\n",
       "                    \"model\": 'text-embedding-3-small'  # Choose the appropriate embedding model\n",
       "                }\n",
       "            },\n",
       "            type=\"short_term\",\n",
       "            path=\"/my_crew1/\"\n",
       "        )\n",
       "    ),\n",
       "\n",
       "    # Configuring Entity Memory\n",
       "    entity_memory=EntityMemory(\n",
       "        storage=RAGStorage(\n",
       "            embedder_config={\n",
       "                \"provider\": \"openai\",\n",
       "                \"config\": {\n",
       "                    \"model\": 'text-embedding-3-small'  # Choose the appropriate embedding model\n",
       "                }\n",
       "            },\n",
       "            type=\"short_term\",\n",
       "            path=\"/my_crew1/\"\n",
       "        )\n",
       "    ),\n",
       "    \n",
       "    verbose=True,\n",
       ")\n",
       "```\n",
       "\n",
       "### Important Notes\n",
       "- **Storage Paths**: Make sure to manage your storage paths carefully and avoid hardcoding sensitive information to protect against data breaches. This is crucial for maintaining security.\n",
       "- **Resetting Memory**: If you ever need to clear any memory types, you can use the `reset_memories` method available within the Crew object for easy management of your agents' memory.\n",
       "- **Integration of Advanced Memory Features**: Consider utilizing the Mem0 API to incorporate user-specific memory capabilities for a more personalized interaction experience.\n",
       "\n",
       "By following these guidelines, you should be on the right track to launching your Crew with the desired memory functionalities! If you have any further questions or need more assistance, please don’t hesitate to reach out. We’re here to support you every step of the way!\n",
       "\n",
       "Best regards,  \n",
       "[Your Name]  \n",
       "CrewAI Support Team"
      ],
      "text/plain": [
       "<IPython.core.display.Markdown object>"
      ]
     },
     "execution_count": 11,
     "metadata": {},
     "output_type": "execute_result"
    }
   ],
   "source": [
    "from IPython.display import Markdown\n",
    "Markdown(result.raw)"
   ]
  },
  {
   "cell_type": "code",
   "execution_count": null,
   "metadata": {},
   "outputs": [],
   "source": []
  }
 ],
 "metadata": {
  "kernelspec": {
   "display_name": "Python 3",
   "language": "python",
   "name": "python3"
  },
  "language_info": {
   "codemirror_mode": {
    "name": "ipython",
    "version": 3
   },
   "file_extension": ".py",
   "mimetype": "text/x-python",
   "name": "python",
   "nbconvert_exporter": "python",
   "pygments_lexer": "ipython3",
   "version": "3.11.11"
  }
 },
 "nbformat": 4,
 "nbformat_minor": 2
}
